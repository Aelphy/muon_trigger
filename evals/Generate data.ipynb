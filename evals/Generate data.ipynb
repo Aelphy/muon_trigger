{
 "cells": [
  {
   "cell_type": "code",
   "execution_count": 1,
   "metadata": {
    "collapsed": false
   },
   "outputs": [],
   "source": [
    "import numpy as np\n",
    "import time\n",
    "import matplotlib.pyplot as plt\n",
    "\n",
    "import lasagne\n",
    "import theano\n",
    "import theano.tensor as T\n",
    "import numpy as np\n",
    "from lasagne.layers import DenseLayer,\\\n",
    "                           Conv2DLayer,\\\n",
    "                           MaxPool2DLayer,\\\n",
    "                           InputLayer,\\\n",
    "                           GlobalPoolLayer,\\\n",
    "                           DropoutLayer,\\\n",
    "                           Upscale2DLayer\n",
    "from lasagne.nonlinearities import elu, sigmoid, rectify\n",
    "\n",
    "plt.style.use('ggplot')\n",
    "\n",
    "%matplotlib inline"
   ]
  },
  {
   "cell_type": "code",
   "execution_count": 2,
   "metadata": {
    "collapsed": true
   },
   "outputs": [],
   "source": [
    "noise = np.load('../../The-Quest-For-Mu/noise200_200.npy')"
   ]
  },
  {
   "cell_type": "code",
   "execution_count": 3,
   "metadata": {
    "collapsed": false
   },
   "outputs": [],
   "source": [
    "artificial_tracks = np.load('../../The-Quest-For-Mu/convolves2.npy')"
   ]
  },
  {
   "cell_type": "code",
   "execution_count": 4,
   "metadata": {
    "collapsed": false
   },
   "outputs": [],
   "source": [
    "def gen_big_pictures_dataset(tracks, noise, size, tracks_count, shape=(200, 200)):\n",
    "    assert(len(shape) == 2)\n",
    "    assert(shape[0] == shape[1])\n",
    "    \n",
    "    dataset = []\n",
    "    targets = []\n",
    "    \n",
    "    past_time = time.time()\n",
    "    for j in xrange(size):\n",
    "        if j % 100 == 0:\n",
    "            print(j, time.time() - past_time)\n",
    "            past_time = time.time()\n",
    "            \n",
    "        template = np.zeros(shape)\n",
    "        answer = np.zeros(shape)\n",
    "        noise_template = noise[np.random.choice(np.arange(noise.shape[0]))].reshape(200, 200)\n",
    "        signal_samples = artificial_tracks[np.random.choice(np.arange(artificial_tracks.shape[0]),\n",
    "                                                            replace=False,\n",
    "                                                            size=tracks_count)]\n",
    "        \n",
    "        if tracks_count > 0:\n",
    "            tlx = np.random.choice(np.arange(shape[0] - signal_samples[0].shape[0]), replace=False, size=tracks_count)\n",
    "            tly = np.random.choice(np.arange(shape[1] - signal_samples[0].shape[1]), replace=False, size=tracks_count)\n",
    "        \n",
    "        for i in xrange(tracks_count):\n",
    "            answer[tlx[i]:tlx[i] + signal_samples[0].shape[0],\\\n",
    "                   tly[i]:tly[i] + signal_samples[0].shape[1]] = (signal_samples[i] > 0).astype(np.int8)\n",
    "            template[tlx[i]:tlx[i] + signal_samples[0].shape[0],\\\n",
    "                     tly[i]:tly[i] + signal_samples[0].shape[1]] = signal_samples[i]\n",
    "                \n",
    "        \n",
    "        sample = np.max([5 * template / (1e-6 + template.max() - template.min()),\n",
    "                         6 * noise_template / (1e-6 + noise_template.max() - noise_template.min())],\n",
    "                        axis=0)\n",
    "        \n",
    "        dataset.append(sample.ravel())\n",
    "        targets.append(answer.ravel())\n",
    "                \n",
    "    return np.vstack(dataset), np.vstack(targets)"
   ]
  },
  {
   "cell_type": "code",
   "execution_count": 5,
   "metadata": {
    "collapsed": false,
    "scrolled": true
   },
   "outputs": [
    {
     "name": "stdout",
     "output_type": "stream",
     "text": [
      "(0, 2.86102294921875e-06)\n",
      "(100, 0.3016500473022461)\n",
      "(200, 0.30141401290893555)\n",
      "(300, 0.30114197731018066)\n",
      "(400, 0.30068302154541016)\n",
      "(500, 0.2955050468444824)\n",
      "(600, 0.30235791206359863)\n",
      "(700, 0.30146312713623047)\n",
      "(800, 0.2953300476074219)\n",
      "(900, 0.2955191135406494)\n",
      "(1000, 0.32473087310791016)\n",
      "(1100, 0.32064390182495117)\n",
      "(1200, 0.32387709617614746)\n",
      "(1300, 0.32346010208129883)\n",
      "(1400, 0.32189393043518066)\n",
      "(1500, 0.32449889183044434)\n",
      "(1600, 0.32418107986450195)\n",
      "(1700, 0.3214409351348877)\n",
      "(1800, 0.3235931396484375)\n",
      "(1900, 0.32305192947387695)\n",
      "(2000, 0.3207390308380127)\n",
      "(2100, 0.31801700592041016)\n",
      "(2200, 0.3218810558319092)\n",
      "(2300, 0.3215758800506592)\n",
      "(2400, 0.3201169967651367)\n",
      "(2500, 0.31856513023376465)\n",
      "(2600, 0.32099294662475586)\n",
      "(2700, 0.31680798530578613)\n",
      "(2800, 0.322070837020874)\n",
      "(2900, 0.32507896423339844)\n",
      "(3000, 0.3179900646209717)\n",
      "(3100, 0.3219921588897705)\n",
      "(3200, 0.32346510887145996)\n",
      "(3300, 0.31648707389831543)\n",
      "(3400, 0.32149386405944824)\n",
      "(3500, 0.3211400508880615)\n",
      "(3600, 0.31880903244018555)\n",
      "(3700, 0.3160538673400879)\n",
      "(3800, 0.3212699890136719)\n",
      "(3900, 0.31775712966918945)\n",
      "(4000, 0.3205840587615967)\n",
      "(4100, 0.3163328170776367)\n",
      "(4200, 0.31981897354125977)\n",
      "(4300, 0.32238101959228516)\n",
      "(4400, 0.3202059268951416)\n",
      "(4500, 0.3201899528503418)\n",
      "(4600, 0.3157999515533447)\n",
      "(4700, 0.3209419250488281)\n",
      "(4800, 0.3218991756439209)\n",
      "(4900, 0.3209371566772461)\n",
      "(5000, 0.3242359161376953)\n",
      "(5100, 0.3227570056915283)\n",
      "(5200, 0.3120999336242676)\n",
      "(5300, 0.3153989315032959)\n",
      "(5400, 0.3220489025115967)\n",
      "(5500, 0.3176448345184326)\n",
      "(5600, 0.3246300220489502)\n",
      "(5700, 0.31877899169921875)\n",
      "(5800, 0.3178589344024658)\n",
      "(5900, 0.316770076751709)\n",
      "(6000, 0.31955599784851074)\n",
      "(6100, 0.3173558712005615)\n",
      "(6200, 0.3163270950317383)\n",
      "(6300, 0.3121461868286133)\n",
      "(6400, 0.3140888214111328)\n",
      "(6500, 0.31498003005981445)\n",
      "(6600, 0.316148042678833)\n",
      "(6700, 0.3151280879974365)\n",
      "(6800, 0.3155331611633301)\n",
      "(6900, 0.3150191307067871)\n",
      "(7000, 0.31631898880004883)\n",
      "(7100, 0.31777286529541016)\n",
      "(7200, 0.3153250217437744)\n",
      "(7300, 0.3177192211151123)\n",
      "(7400, 0.3178248405456543)\n",
      "(7500, 0.3201138973236084)\n",
      "(7600, 0.314755916595459)\n",
      "(7700, 0.3163180351257324)\n",
      "(7800, 0.31601905822753906)\n",
      "(7900, 0.3168339729309082)\n",
      "(8000, 0.314594030380249)\n",
      "(8100, 0.315169095993042)\n",
      "(8200, 0.31723785400390625)\n",
      "(8300, 0.31619882583618164)\n",
      "(8400, 0.317061185836792)\n",
      "(8500, 0.31685304641723633)\n",
      "(8600, 0.3172900676727295)\n",
      "(8700, 0.3163421154022217)\n",
      "(8800, 0.313601016998291)\n",
      "(8900, 0.31383585929870605)\n",
      "(9000, 0.31591796875)\n",
      "(9100, 0.31518983840942383)\n",
      "(9200, 0.31510210037231445)\n",
      "(9300, 0.31592297554016113)\n",
      "(9400, 0.31633591651916504)\n",
      "(9500, 0.31629300117492676)\n",
      "(9600, 0.3153049945831299)\n",
      "(9700, 0.3174479007720947)\n",
      "(9800, 0.31586194038391113)\n",
      "(9900, 0.3160719871520996)\n"
     ]
    }
   ],
   "source": [
    "dataset, targets = gen_big_pictures_dataset(artificial_tracks, noise, 10000, 3)"
   ]
  },
  {
   "cell_type": "code",
   "execution_count": 6,
   "metadata": {
    "collapsed": true
   },
   "outputs": [],
   "source": [
    "def iterate_minibatches(inputs, targets, batch_size):\n",
    "    indices = np.arange(len(inputs))\n",
    "    np.random.shuffle(indices)\n",
    "    \n",
    "    for start_idx in range(0, len(inputs) - batch_size + 1, batch_size):\n",
    "        excerpt = indices[start_idx:start_idx + batch_size]\n",
    "\n",
    "        yield inputs[excerpt], targets[excerpt]"
   ]
  },
  {
   "cell_type": "code",
   "execution_count": 7,
   "metadata": {
    "collapsed": false
   },
   "outputs": [],
   "source": [
    "def downscale(targets, window=20):\n",
    "    new_shape = targets[0].shape[-1] / window\n",
    "    results = np.zeros((0, new_shape, new_shape))\n",
    "    \n",
    "    for target in targets:\n",
    "        result = np.zeros((new_shape, new_shape))\n",
    "        for xs in range(new_shape):\n",
    "            for ys in range(new_shape):\n",
    "                result[xs, ys] = target[xs * window:(xs + 1) * window, ys * window:(ys + 1) * window].max()\n",
    "                \n",
    "        results = np.vstack((results, result.reshape(1, new_shape, new_shape)))\n",
    "                \n",
    "    return results"
   ]
  },
  {
   "cell_type": "code",
   "execution_count": 8,
   "metadata": {
    "collapsed": false
   },
   "outputs": [],
   "source": [
    "downsampled_answers = downscale(targets.reshape(-1, 200, 200))"
   ]
  },
  {
   "cell_type": "code",
   "execution_count": 9,
   "metadata": {
    "collapsed": false
   },
   "outputs": [],
   "source": [
    "from sklearn.cross_validation import train_test_split\n",
    "\n",
    "X_y = train_test_split(dataset.reshape(-1, 1, 200, 200).astype(np.float32),\n",
    "                       downsampled_answers.reshape(-1, 1, 10, 10).astype(np.float32))"
   ]
  },
  {
   "cell_type": "code",
   "execution_count": 37,
   "metadata": {
    "collapsed": true
   },
   "outputs": [],
   "source": [
    "def learn(nn, dataset, num_epochs=100, batch_size=50):\n",
    "    '''\n",
    "        num_epochs - amount of passes through the data\n",
    "        batch_size - number of samples processed at each function call\n",
    "        dataset - [X_train, X_val, y_train, y_val]\n",
    "    '''\n",
    "    \n",
    "    X_train, X_val, y_train, y_val = dataset\n",
    "\n",
    "    for epoch in range(num_epochs):\n",
    "        # In each epoch, we do a full pass over the training data:\n",
    "        train_err = 0\n",
    "        train_acc = 0\n",
    "        train_batches = 0\n",
    "        train_pos_error = 0\n",
    "        start_time = time.time()\n",
    "\n",
    "        for batch in iterate_minibatches(X_train, y_train, batch_size):\n",
    "            inputs, targets = batch\n",
    "            train_err_batch, train_pos_error_batch, train_acc_batch = nn.train(inputs, targets)\n",
    "            train_err += train_err_batch\n",
    "            train_acc += train_acc_batch\n",
    "            train_pos_error += train_pos_error_batch\n",
    "            train_batches += 1\n",
    "\n",
    "        # And a full pass over the validation data:\n",
    "        val_acc = 0\n",
    "        val_batches = 0\n",
    "        val_pos_error = 0\n",
    "\n",
    "        for batch in iterate_minibatches(X_val, y_val, batch_size):\n",
    "            inputs, targets = batch\n",
    "            val_pos_error_batch, val_acc_batch = nn.evaluate(inputs, targets)\n",
    "            val_acc += val_acc_batch\n",
    "            val_pos_error += val_pos_error_batch\n",
    "            val_batches += 1\n",
    "\n",
    "        # Then we print the results for this epoch:\n",
    "        print('Epoch {} of {} took {:.3f}s'.format(epoch + 1, num_epochs, time.time() - start_time))\n",
    "        print('  training loss (in-iteration):\\t\\t\\t{:.6f}'.format(train_err / train_batches))\n",
    "        print('  train accuracy:\\t\\t{:.2f} %'.format(train_acc / train_batches * 100))\n",
    "        print('  train recall:\\t\\t\\t{:.2f} %'.format(train_pos_error / train_batches * 100))\n",
    "        print('  validation accuracy:\\t\\t{:.2f} %'.format(val_acc / val_batches * 100))\n",
    "        print('  validation recall:\\t\\t{:.2f} %'.format(val_pos_error / val_batches * 100))"
   ]
  },
  {
   "cell_type": "code",
   "execution_count": 58,
   "metadata": {
    "collapsed": false
   },
   "outputs": [],
   "source": [
    "class Base():\n",
    "    def __init__(self, img_shape=(200, 200), learning_rate=1e-2, c=1.0):\n",
    "        self.c = c\n",
    "        self.input_X = T.tensor4('inputs')\n",
    "        self.targets = T.tensor4('targets')\n",
    "        self.output_layer = self.build_network(img_shape)\n",
    "        self.output = lasagne.layers.get_output(self.output_layer, self.input_X)\n",
    "        self.train = self.compile_trainer(learning_rate)\n",
    "        self.evaluate = self.compile_evaluator()\n",
    "        self.predict = self.compile_forward_pass()\n",
    "\n",
    "    # TODO: could be modified\n",
    "    #   add cost as sum nonzeros elements in the middle layers\n",
    "    def get_obj(self):             \n",
    "        a = self.output.ravel()\n",
    "        t = self.targets.ravel()\n",
    "\n",
    "        return -(t * T.log(a) + self.c * (1.0 - t) * T.log(1.0 - a)).mean()\n",
    "    \n",
    "    def get_recall(self):   \n",
    "        a = self.output.ravel()\n",
    "        t = self.targets.ravel()\n",
    "        \n",
    "        return ((a > 0.5) * t).sum() / t.sum()\n",
    "    \n",
    "    def get_accuracy(self):                      \n",
    "        return lasagne.objectives.binary_accuracy(self.output, self.targets).mean()\n",
    "\n",
    "    # TODO: could be modified\n",
    "    def compile_trainer(self, learning_rate):\n",
    "        obj = self.get_obj()\n",
    "        params = lasagne.layers.get_all_params(self.output_layer, trainable=True)\n",
    "        updates = lasagne.updates.adagrad(obj, params, learning_rate=learning_rate)\n",
    "        \n",
    "        return theano.function([self.input_X, self.targets], \n",
    "                               [obj,\n",
    "                                self.get_recall(),\n",
    "                                self.get_accuracy()],\n",
    "                               updates=updates)\n",
    "\n",
    "    # TODO: could be modified\n",
    "    def build_network(self, img_shape):\n",
    "        input_layer = InputLayer((None, 1) + tuple(img_shape), self.input_X)\n",
    "\n",
    "        conv0 = Conv2DLayer(input_layer, num_filters=3, filter_size = 3, pad='same', nonlinearity=elu)\n",
    "        mp01 = MaxPool2DLayer(conv0, pool_size=5)\n",
    "        conv1 = Conv2DLayer(mp01, num_filters=6, filter_size = 3, pad='same', nonlinearity=elu)\n",
    "        mp12 = MaxPool2DLayer(conv1, pool_size=4)\n",
    "        out = Conv2DLayer(mp12, num_filters = 1, filter_size = 1, pad='same', nonlinearity=sigmoid)\n",
    "\n",
    "        return out\n",
    "\n",
    "    # TODO: could be modified\n",
    "    def compile_forward_pass(self):\n",
    "        return theano.function([self.input_X], self.output)\n",
    "\n",
    "    def compile_evaluator(self):        \n",
    "        return theano.function([self.input_X, self.targets], [self.get_recall(), self.get_accuracy()])"
   ]
  },
  {
   "cell_type": "code",
   "execution_count": 62,
   "metadata": {
    "collapsed": false
   },
   "outputs": [],
   "source": [
    "base = Base(c=1e-1, learning_rate=1e-3)"
   ]
  },
  {
   "cell_type": "code",
   "execution_count": 63,
   "metadata": {
    "collapsed": false,
    "scrolled": true
   },
   "outputs": [
    {
     "name": "stdout",
     "output_type": "stream",
     "text": [
      "Epoch 1 of 100 took 3.788s\n",
      "  training loss (in-iteration):\t\t\t0.099827\n",
      "  train accuracy:\t\t54.73 %\n",
      "  train recall:\t\t\t98.69 %\n",
      "  validation accuracy:\t\t59.31 %\n",
      "  validation recall:\t\t98.73 %\n",
      "Epoch 2 of 100 took 3.599s\n",
      "  training loss (in-iteration):\t\t\t0.090452\n",
      "  train accuracy:\t\t63.10 %\n",
      "  train recall:\t\t\t98.60 %\n",
      "  validation accuracy:\t\t66.61 %\n",
      "  validation recall:\t\t98.55 %\n",
      "Epoch 3 of 100 took 3.472s\n",
      "  training loss (in-iteration):\t\t\t0.084696\n",
      "  train accuracy:\t\t69.59 %\n",
      "  train recall:\t\t\t98.40 %\n",
      "  validation accuracy:\t\t72.49 %\n",
      "  validation recall:\t\t98.30 %\n",
      "Epoch 4 of 100 took 3.570s\n",
      "  training loss (in-iteration):\t\t\t0.080185\n",
      "  train accuracy:\t\t74.89 %\n",
      "  train recall:\t\t\t98.22 %\n",
      "  validation accuracy:\t\t77.01 %\n",
      "  validation recall:\t\t98.11 %\n",
      "Epoch 5 of 100 took 3.225s\n",
      "  training loss (in-iteration):\t\t\t0.076433\n",
      "  train accuracy:\t\t78.80 %\n",
      "  train recall:\t\t\t98.05 %\n",
      "  validation accuracy:\t\t80.63 %\n",
      "  validation recall:\t\t97.92 %\n",
      "Epoch 6 of 100 took 3.677s\n",
      "  training loss (in-iteration):\t\t\t0.073235\n",
      "  train accuracy:\t\t81.87 %\n",
      "  train recall:\t\t\t97.85 %\n",
      "  validation accuracy:\t\t83.05 %\n",
      "  validation recall:\t\t97.79 %\n",
      "Epoch 7 of 100 took 3.385s\n",
      "  training loss (in-iteration):\t\t\t0.070462\n",
      "  train accuracy:\t\t84.10 %\n",
      "  train recall:\t\t\t97.66 %\n",
      "  validation accuracy:\t\t84.80 %\n",
      "  validation recall:\t\t97.69 %\n",
      "Epoch 8 of 100 took 3.421s\n",
      "  training loss (in-iteration):\t\t\t0.068022\n",
      "  train accuracy:\t\t85.69 %\n",
      "  train recall:\t\t\t97.53 %\n",
      "  validation accuracy:\t\t86.33 %\n",
      "  validation recall:\t\t97.55 %\n",
      "Epoch 9 of 100 took 3.246s\n",
      "  training loss (in-iteration):\t\t\t0.065859\n",
      "  train accuracy:\t\t87.01 %\n",
      "  train recall:\t\t\t97.35 %\n",
      "  validation accuracy:\t\t87.38 %\n",
      "  validation recall:\t\t97.46 %\n",
      "Epoch 10 of 100 took 3.708s\n",
      "  training loss (in-iteration):\t\t\t0.063928\n",
      "  train accuracy:\t\t87.98 %\n",
      "  train recall:\t\t\t97.25 %\n",
      "  validation accuracy:\t\t88.36 %\n",
      "  validation recall:\t\t97.36 %\n",
      "Epoch 11 of 100 took 3.345s\n",
      "  training loss (in-iteration):\t\t\t0.062194\n",
      "  train accuracy:\t\t88.81 %\n",
      "  train recall:\t\t\t97.14 %\n",
      "  validation accuracy:\t\t89.01 %\n",
      "  validation recall:\t\t97.28 %\n",
      "Epoch 12 of 100 took 3.668s\n",
      "  training loss (in-iteration):\t\t\t0.060630\n",
      "  train accuracy:\t\t89.39 %\n",
      "  train recall:\t\t\t97.08 %\n",
      "  validation accuracy:\t\t89.73 %\n",
      "  validation recall:\t\t97.16 %\n",
      "Epoch 13 of 100 took 3.484s\n",
      "  training loss (in-iteration):\t\t\t0.059215\n",
      "  train accuracy:\t\t90.00 %\n",
      "  train recall:\t\t\t96.97 %\n",
      "  validation accuracy:\t\t90.06 %\n",
      "  validation recall:\t\t97.14 %\n",
      "Epoch 14 of 100 took 3.443s\n",
      "  training loss (in-iteration):\t\t\t0.057929\n",
      "  train accuracy:\t\t90.38 %\n",
      "  train recall:\t\t\t96.92 %\n",
      "  validation accuracy:\t\t90.43 %\n",
      "  validation recall:\t\t97.09 %\n",
      "Epoch 15 of 100 took 3.287s\n",
      "  training loss (in-iteration):\t\t\t0.056754\n",
      "  train accuracy:\t\t90.71 %\n",
      "  train recall:\t\t\t96.87 %\n",
      "  validation accuracy:\t\t90.78 %\n",
      "  validation recall:\t\t97.05 %\n",
      "Epoch 16 of 100 took 3.770s\n",
      "  training loss (in-iteration):\t\t\t0.055677\n",
      "  train accuracy:\t\t91.03 %\n",
      "  train recall:\t\t\t96.81 %\n",
      "  validation accuracy:\t\t91.03 %\n",
      "  validation recall:\t\t97.00 %\n"
     ]
    },
    {
     "ename": "KeyboardInterrupt",
     "evalue": "",
     "output_type": "error",
     "traceback": [
      "\u001b[1;31m---------------------------------------------------------------------------\u001b[0m",
      "\u001b[1;31mKeyboardInterrupt\u001b[0m                         Traceback (most recent call last)",
      "\u001b[1;32m<ipython-input-63-2473785f9bbf>\u001b[0m in \u001b[0;36m<module>\u001b[1;34m()\u001b[0m\n\u001b[1;32m----> 1\u001b[1;33m \u001b[0mlearn\u001b[0m\u001b[1;33m(\u001b[0m\u001b[0mbase\u001b[0m\u001b[1;33m,\u001b[0m \u001b[0mX_y\u001b[0m\u001b[1;33m,\u001b[0m \u001b[0mnum_epochs\u001b[0m\u001b[1;33m=\u001b[0m\u001b[1;36m100\u001b[0m\u001b[1;33m,\u001b[0m \u001b[0mbatch_size\u001b[0m\u001b[1;33m=\u001b[0m\u001b[1;36m50\u001b[0m\u001b[1;33m)\u001b[0m\u001b[1;33m\u001b[0m\u001b[0m\n\u001b[0m",
      "\u001b[1;32m<ipython-input-37-70bc46c1ba57>\u001b[0m in \u001b[0;36mlearn\u001b[1;34m(nn, dataset, num_epochs, batch_size)\u001b[0m\n\u001b[0;32m     18\u001b[0m         \u001b[1;32mfor\u001b[0m \u001b[0mbatch\u001b[0m \u001b[1;32min\u001b[0m \u001b[0miterate_minibatches\u001b[0m\u001b[1;33m(\u001b[0m\u001b[0mX_train\u001b[0m\u001b[1;33m,\u001b[0m \u001b[0my_train\u001b[0m\u001b[1;33m,\u001b[0m \u001b[0mbatch_size\u001b[0m\u001b[1;33m)\u001b[0m\u001b[1;33m:\u001b[0m\u001b[1;33m\u001b[0m\u001b[0m\n\u001b[0;32m     19\u001b[0m             \u001b[0minputs\u001b[0m\u001b[1;33m,\u001b[0m \u001b[0mtargets\u001b[0m \u001b[1;33m=\u001b[0m \u001b[0mbatch\u001b[0m\u001b[1;33m\u001b[0m\u001b[0m\n\u001b[1;32m---> 20\u001b[1;33m             \u001b[0mtrain_err_batch\u001b[0m\u001b[1;33m,\u001b[0m \u001b[0mtrain_pos_error_batch\u001b[0m\u001b[1;33m,\u001b[0m \u001b[0mtrain_acc_batch\u001b[0m \u001b[1;33m=\u001b[0m \u001b[0mnn\u001b[0m\u001b[1;33m.\u001b[0m\u001b[0mtrain\u001b[0m\u001b[1;33m(\u001b[0m\u001b[0minputs\u001b[0m\u001b[1;33m,\u001b[0m \u001b[0mtargets\u001b[0m\u001b[1;33m)\u001b[0m\u001b[1;33m\u001b[0m\u001b[0m\n\u001b[0m\u001b[0;32m     21\u001b[0m             \u001b[0mtrain_err\u001b[0m \u001b[1;33m+=\u001b[0m \u001b[0mtrain_err_batch\u001b[0m\u001b[1;33m\u001b[0m\u001b[0m\n\u001b[0;32m     22\u001b[0m             \u001b[0mtrain_acc\u001b[0m \u001b[1;33m+=\u001b[0m \u001b[0mtrain_acc_batch\u001b[0m\u001b[1;33m\u001b[0m\u001b[0m\n",
      "\u001b[1;32m/home/apanin/anaconda/lib/python2.7/site-packages/theano/compile/function_module.pyc\u001b[0m in \u001b[0;36m__call__\u001b[1;34m(self, *args, **kwargs)\u001b[0m\n\u001b[0;32m    860\u001b[0m         \u001b[1;32mtry\u001b[0m\u001b[1;33m:\u001b[0m\u001b[1;33m\u001b[0m\u001b[0m\n\u001b[0;32m    861\u001b[0m             \u001b[0moutputs\u001b[0m \u001b[1;33m=\u001b[0m\u001b[0;31m\\\u001b[0m\u001b[1;33m\u001b[0m\u001b[0m\n\u001b[1;32m--> 862\u001b[1;33m                 \u001b[0mself\u001b[0m\u001b[1;33m.\u001b[0m\u001b[0mfn\u001b[0m\u001b[1;33m(\u001b[0m\u001b[1;33m)\u001b[0m \u001b[1;32mif\u001b[0m \u001b[0moutput_subset\u001b[0m \u001b[1;32mis\u001b[0m \u001b[0mNone\u001b[0m \u001b[1;32melse\u001b[0m\u001b[0;31m\\\u001b[0m\u001b[1;33m\u001b[0m\u001b[0m\n\u001b[0m\u001b[0;32m    863\u001b[0m                 \u001b[0mself\u001b[0m\u001b[1;33m.\u001b[0m\u001b[0mfn\u001b[0m\u001b[1;33m(\u001b[0m\u001b[0moutput_subset\u001b[0m\u001b[1;33m=\u001b[0m\u001b[0moutput_subset\u001b[0m\u001b[1;33m)\u001b[0m\u001b[1;33m\u001b[0m\u001b[0m\n\u001b[0;32m    864\u001b[0m         \u001b[1;32mexcept\u001b[0m \u001b[0mException\u001b[0m\u001b[1;33m:\u001b[0m\u001b[1;33m\u001b[0m\u001b[0m\n",
      "\u001b[1;31mKeyboardInterrupt\u001b[0m: "
     ]
    }
   ],
   "source": [
    "learn(base, X_y, num_epochs=100, batch_size=50)"
   ]
  },
  {
   "cell_type": "code",
   "execution_count": 65,
   "metadata": {
    "collapsed": false
   },
   "outputs": [
    {
     "data": {
      "image/png": "[encoded data removed]",
      "text/plain": [
       "<matplotlib.figure.Figure at 0x7f5979611210>"
      ]
     },
     "metadata": {},
     "output_type": "display_data"
    },
    {
     "data": {
      "image/png": "[encoded data removed]",
      "text/plain": [
       "<matplotlib.figure.Figure at 0x7f5cf72303d0>"
      ]
     },
     "metadata": {},
     "output_type": "display_data"
    },
    {
     "data": {
      "image/png": "[encoded data removed]",
      "text/plain": [
       "<matplotlib.figure.Figure at 0x7f5cd6b36150>"
      ]
     },
     "metadata": {},
     "output_type": "display_data"
    },
    {
     "data": {
      "image/png": "[encoded data removed]",
      "text/plain": [
       "<matplotlib.figure.Figure at 0x7f5cd6b11290>"
      ]
     },
     "metadata": {},
     "output_type": "display_data"
    },
    {
     "data": {
      "image/png": "[encoded data removed]",
      "text/plain": [
       "<matplotlib.figure.Figure at 0x7f5cf4ade510>"
      ]
     },
     "metadata": {},
     "output_type": "display_data"
    }
   ],
   "source": [
    "i = 2\n",
    "\n",
    "plt.imshow(X_y[1][i].reshape((200, 200)))\n",
    "plt.colorbar()\n",
    "plt.show()\n",
    "\n",
    "plt.imshow(X_y[-1][i].reshape((10, 10)), interpolation='none')\n",
    "plt.show()\n",
    "\n",
    "prediction = base.predict(X_y[1][i].reshape((1, 1, 200, 200)).astype(np.float32))\n",
    "\n",
    "plt.imshow(prediction.reshape(10, 10), interpolation='none', cmap=plt.cm.Reds)\n",
    "plt.colorbar()\n",
    "plt.show()\n",
    "\n",
    "plt.imshow(prediction.reshape(10, 10) < 0.5, interpolation='none', cmap=plt.cm.Reds)\n",
    "plt.colorbar()\n",
    "plt.show()\n",
    "\n",
    "plt.imshow(prediction.reshape(10, 10) >= 0.5, interpolation='none', cmap=plt.cm.Reds)\n",
    "plt.colorbar()\n",
    "plt.show()"
   ]
  },
  {
   "cell_type": "code",
   "execution_count": null,
   "metadata": {
    "collapsed": true
   },
   "outputs": [],
   "source": []
  }
 ],
 "metadata": {
  "kernelspec": {
   "display_name": "Python 2",
   "language": "python",
   "name": "python2"
  },
  "language_info": {
   "codemirror_mode": {
    "name": "ipython",
    "version": 2
   },
   "file_extension": ".py",
   "mimetype": "text/x-python",
   "name": "python",
   "nbconvert_exporter": "python",
   "pygments_lexer": "ipython2",
   "version": "2.7.11"
  }
 },
 "nbformat": 4,
 "nbformat_minor": 0
}

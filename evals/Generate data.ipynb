{
 "cells": [
  {
   "cell_type": "code",
   "execution_count": 1,
   "metadata": {
    "collapsed": false
   },
   "outputs": [],
   "source": [
    "#ipynb config\n",
    "import sys\n",
    "sys.path.append('..')\n",
    "%load_ext autoreload\n",
    "%autoreload 2"
   ]
  },
  {
   "cell_type": "code",
   "execution_count": 2,
   "metadata": {
    "collapsed": false
   },
   "outputs": [
    {
     "name": "stderr",
     "output_type": "stream",
     "text": [
      "Using gpu device 0: GeForce GTX TITAN X (CNMeM is disabled, cuDNN 5005)\n"
     ]
    }
   ],
   "source": [
    "import os\n",
    "import time\n",
    "import numpy as np\n",
    "import matplotlib.pyplot as plt\n",
    "\n",
    "from models.base import Base\n",
    "from sklearn.cross_validation import train_test_split\n",
    "\n",
    "plt.style.use('ggplot')\n",
    "\n",
    "%matplotlib inline"
   ]
  },
  {
   "cell_type": "code",
   "execution_count": 3,
   "metadata": {
    "collapsed": false
   },
   "outputs": [],
   "source": [
    "if os.path.exists('../data/X.npy'):\n",
    "    dataset = np.load('../data/X.npy')\n",
    "    targets = np.load('../data/targets.npy')\n",
    "else:\n",
    "    noise = np.load('../../The-Quest-For-Mu/noise200_200.npy')\n",
    "    artificial_tracks = np.load('../../The-Quest-For-Mu/convolves2.npy')\n",
    "    \n",
    "    def gen_big_pictures_dataset(tracks, noise, size, tracks_count, shape=(200, 200)):\n",
    "        assert(len(shape) == 2)\n",
    "        assert(shape[0] == shape[1])\n",
    "\n",
    "        dataset = []\n",
    "        targets = []\n",
    "\n",
    "        past_time = time.time()\n",
    "        for j in xrange(size):\n",
    "            if j % 100 == 0:\n",
    "                print(j, time.time() - past_time)\n",
    "                past_time = time.time()\n",
    "\n",
    "            template = np.zeros(shape)\n",
    "            answer = np.zeros(shape)\n",
    "            noise_template = noise[np.random.choice(np.arange(noise.shape[0]))].reshape(200, 200)\n",
    "            signal_samples = artificial_tracks[np.random.choice(np.arange(artificial_tracks.shape[0]),\n",
    "                                                                replace=False,\n",
    "                                                                size=tracks_count)]\n",
    "\n",
    "            if tracks_count > 0:\n",
    "                tlx = np.random.choice(np.arange(shape[0] - signal_samples[0].shape[0]),\n",
    "                                       replace=False,\n",
    "                                       size=tracks_count)\n",
    "                tly = np.random.choice(np.arange(shape[1] - signal_samples[0].shape[1]),\n",
    "                                       replace=False,\n",
    "                                       size=tracks_count)\n",
    "\n",
    "            for i in xrange(tracks_count):\n",
    "                answer[tlx[i]:tlx[i] + signal_samples[0].shape[0],\\\n",
    "                       tly[i]:tly[i] + signal_samples[0].shape[1]] = (signal_samples[i] > 0).astype(np.int8)\n",
    "                template[tlx[i]:tlx[i] + signal_samples[0].shape[0],\\\n",
    "                         tly[i]:tly[i] + signal_samples[0].shape[1]] = signal_samples[i]\n",
    "\n",
    "\n",
    "            sample = np.max([5 * template / (1e-6 + template.max() - template.min()),\n",
    "                             6 * noise_template / (1e-6 + noise_template.max() - noise_template.min())],\n",
    "                            axis=0)\n",
    "\n",
    "            dataset.append(sample.ravel())\n",
    "            targets.append(answer.ravel())\n",
    "\n",
    "        return np.vstack(dataset), np.vstack(targets)\n",
    "    \n",
    "    \n",
    "    dataset, targets = gen_big_pictures_dataset(artificial_tracks, noise, 10000, 3)"
   ]
  }
 ],
 "metadata": {
  "kernelspec": {
   "display_name": "Python 2",
   "language": "python",
   "name": "python2"
  },
  "language_info": {
   "codemirror_mode": {
    "name": "ipython",
    "version": 2
   },
   "file_extension": ".py",
   "mimetype": "text/x-python",
   "name": "python",
   "nbconvert_exporter": "python",
   "pygments_lexer": "ipython2",
   "version": "2.7.11"
  }
 },
 "nbformat": 4,
 "nbformat_minor": 0
}

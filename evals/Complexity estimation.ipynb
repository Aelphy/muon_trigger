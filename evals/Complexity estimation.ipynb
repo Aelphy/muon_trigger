{
 "cells": [
  {
   "cell_type": "code",
   "execution_count": 1,
   "metadata": {
    "collapsed": false
   },
   "outputs": [],
   "source": [
    "#ipynb config\n",
    "import sys\n",
    "sys.path.append('..')\n",
    "%load_ext autoreload\n",
    "%autoreload 2"
   ]
  },
  {
   "cell_type": "code",
   "execution_count": 2,
   "metadata": {
    "collapsed": false
   },
   "outputs": [
    {
     "name": "stderr",
     "output_type": "stream",
     "text": [
      "Using gpu device 0: GeForce GTX TITAN X (CNMeM is disabled, cuDNN 5005)\n"
     ]
    }
   ],
   "source": [
    "from sklearn.metrics import precision_recall_curve, average_precision_score\n",
    "from sklearn.cross_validation import train_test_split\n",
    "from models.cascade_base import CascadeBase\n",
    "from utils.visualizer import Visualizer\n",
    "from IPython.display import SVG, display\n",
    "\n",
    "import numpy as np\n",
    "import matplotlib.pyplot as plt\n",
    "import theano.tensor as T\n",
    "\n",
    "import time\n",
    "import pydot\n",
    "import pickle\n",
    "import lasagne\n",
    "import theano\n",
    "\n",
    "plt.style.use('ggplot')\n",
    "\n",
    "%matplotlib inline"
   ]
  },
  {
   "cell_type": "code",
   "execution_count": 3,
   "metadata": {
    "collapsed": false
   },
   "outputs": [],
   "source": [
    "def load_dataset(ds, num_files):\n",
    "    datasets = []\n",
    "    targets = []\n",
    "\n",
    "    for i in range(num_files):\n",
    "        print i\n",
    "        datasets.append(np.load('../data/{}/imgs_{}.npy'.format(ds, str(i).zfill(4))).reshape(-1, 1, 512, 512))\n",
    "        targets.append(np.load('../data/{}/masks_{}.npy'.format(ds, str(i).zfill(4))).reshape(-1, 1, 512, 512))\n",
    "\n",
    "    dataset = np.vstack(datasets)\n",
    "    targets = np.vstack(targets)\n",
    "\n",
    "    track_targets = targets.copy()\n",
    "    track_targets[track_targets <= 0] = 0\n",
    "    \n",
    "    return dataset, track_targets"
   ]
  },
  {
   "cell_type": "code",
   "execution_count": 4,
   "metadata": {
    "collapsed": false
   },
   "outputs": [
    {
     "name": "stdout",
     "output_type": "stream",
     "text": [
      "0\n"
     ]
    }
   ],
   "source": [
    "dataset, track_targets = load_dataset('not_so_noisy', 1)"
   ]
  },
  {
   "cell_type": "code",
   "execution_count": 5,
   "metadata": {
    "collapsed": false
   },
   "outputs": [],
   "source": [
    "X_y = train_test_split(dataset, track_targets)"
   ]
  },
  {
   "cell_type": "markdown",
   "metadata": {},
   "source": [
    "## load pretrained on big images network"
   ]
  },
  {
   "cell_type": "code",
   "execution_count": 6,
   "metadata": {
    "collapsed": false
   },
   "outputs": [],
   "source": [
    "network = CascadeBase(img_shape=(512, 512),\n",
    "                      learning_rate=1e-3,\n",
    "                      c=1e-1,\n",
    "                      c_complexity=5e-1,\n",
    "                      c_sub_objs=[1e-2, 5e-1, 1, 1],\n",
    "                      c_sub_obj_cs=[1e-2, 5e-2, 1e-1, 1e-1],\n",
    "                      mul=True,\n",
    "                      pool_sizes=[2, 2, 2, 2],\n",
    "                      num_filters=[1, 1, 3, 6],\n",
    "                      filter_sizes=[1, 3, 3, 3],\n",
    "                      l2_c=1e-4)"
   ]
  },
  {
   "cell_type": "code",
   "execution_count": 7,
   "metadata": {
    "collapsed": false
   },
   "outputs": [],
   "source": [
    "network.load('../weights/', '3cascades_not_clear_trained')"
   ]
  },
  {
   "cell_type": "code",
   "execution_count": 8,
   "metadata": {
    "collapsed": false
   },
   "outputs": [],
   "source": [
    "get_target = theano.function([network.targets], lasagne.layers.get_output(network.target_pool_layers[-1]))\n",
    "\n",
    "complexity, max_complexity, miltipliers, constants = network.compute_complexity()\n",
    "result = complexity[0] * network.input_X.shape[0]\n",
    "\n",
    "for i in range(len(complexity) - 1):\n",
    "    result += complexity[i + 1] * miltipliers[i] + 10 * constants[i]\n",
    "    \n",
    "estimate_complexity = theano.function([network.input_X, network.targets], result / complexity[0] / network.input_X.shape[0])\n",
    "\n",
    "def compute_recall_by_num_noise(dataset, targets, t):\n",
    "    dataset_by_num_noise = {}\n",
    "\n",
    "    for i in xrange(len(dataset)):\n",
    "        num_noise = ((dataset[i] * (1 - targets[i])) == 5).sum()\n",
    "\n",
    "        if num_noise not in dataset_by_num_noise:\n",
    "            dataset_by_num_noise[num_noise] = []\n",
    "\n",
    "        dataset_by_num_noise[num_noise].append(i)\n",
    "        \n",
    "    recall_by_num_noise = {}\n",
    "\n",
    "    for k, v in dataset_by_num_noise.items():\n",
    "        recall_by_num_noise[k] = []\n",
    "\n",
    "        for index in v:\n",
    "            small_t = get_target(targets[index].reshape(1, 1, 512, 512))\n",
    "            prediction = network.predict(dataset[index].reshape(1, 1, 512, 512).astype(np.float32))\n",
    "            activation = prediction > t\n",
    "            recall_by_num_noise[k].append((activation.sum(), small_t.sum(), (activation * small_t).sum()))\n",
    "            \n",
    "    return recall_by_num_noise, dataset_by_num_noise\n",
    "\n",
    "\n",
    "def draw_recall_by_num_noise(recall_by_num_noises, thrs):\n",
    "    for j, recall_by_num_noise in enumerate(recall_by_num_noises):\n",
    "        counts, bins = np.histogram(recall_by_num_noise.keys())\n",
    "        extended_bins = np.hstack((np.array([-np.inf]), bins, np.array([np.inf])))\n",
    "        \n",
    "        xs = []\n",
    "        predictions = []\n",
    "        targets = []\n",
    "        right_answers = []\n",
    "        \n",
    "        early_stop = False\n",
    "        for i in range(len(extended_bins) - 1):\n",
    "            if early_stop:\n",
    "                break\n",
    "                \n",
    "            examples = []\n",
    "            for k, v in recall_by_num_noise.items():\n",
    "                if k > extended_bins[i] and k <= extended_bins[i + 1]:\n",
    "                    examples += v\n",
    "            \n",
    "            if not examples:\n",
    "                for k, v in recall_by_num_noise.items():\n",
    "                    if k > extended_bins[i]:\n",
    "                        examples += v\n",
    "                \n",
    "                early_stop = True\n",
    "           \n",
    "            xs.append(extended_bins[i + 1] / 512**2)\n",
    "            examples = np.array(examples)\n",
    "    \n",
    "            predictions.append(examples[:, 0].mean())\n",
    "            targets.append(examples[:, 1].mean())\n",
    "            right_answers.append(examples[:, 2].mean())\n",
    "            \n",
    "            if early_stop:\n",
    "                break\n",
    "        \n",
    "        plt.plot(xs, predictions, label= 'P')\n",
    "        plt.plot(xs, targets, label= 'TP + TN')\n",
    "        plt.plot(xs, right_answers, label='TP')\n",
    "        plt.legend(loc='best')\n",
    "        plt.title('Recall = ' + str(thrs[j]))\n",
    "        plt.xlabel('noise per cent')\n",
    "        plt.yscale('log')\n",
    "        plt.show()\n",
    "        \n",
    "        \n",
    "def iterate_minibatches(inputs, targets, batch_size):\n",
    "    indices = np.arange(len(inputs))\n",
    "    np.random.shuffle(indices)\n",
    "    \n",
    "    for start_idx in range(0, len(inputs) - batch_size + 1, batch_size):\n",
    "        excerpt = indices[start_idx:start_idx + batch_size]\n",
    "\n",
    "        yield inputs[excerpt], targets[excerpt]\n",
    "        \n",
    "\n",
    "def draw_precision_by_num_noise(recall_by_num_noises, thrs, max_percentile=0.1, num_bins=30):\n",
    "    for j, recall_by_num_noise in enumerate(recall_by_num_noises):\n",
    "        counts, bins = np.histogram(recall_by_num_noise.keys(), bins=num_bins)\n",
    "        extended_bins = np.hstack((np.array([-np.inf]), bins, np.array([np.inf])))\n",
    "        \n",
    "        xs = []\n",
    "        precisions = []\n",
    "        \n",
    "        early_stop = False\n",
    "        for i in range(len(extended_bins) - 1):\n",
    "            if early_stop:\n",
    "                break\n",
    "                \n",
    "            examples = []\n",
    "            for k, v in recall_by_num_noise.items():\n",
    "                if k > extended_bins[i] and k <= extended_bins[i + 1]:\n",
    "                    examples += v\n",
    "            \n",
    "            if not examples:\n",
    "                for k, v in recall_by_num_noise.items():\n",
    "                    if k > extended_bins[i]:\n",
    "                        examples += v\n",
    "                \n",
    "                early_stop = True\n",
    "           \n",
    "            xs.append(extended_bins[i + 1] / 512**2)\n",
    "            examples = np.array(examples)\n",
    "    \n",
    "            precisions.append(examples[:, 2].sum() / float(examples[:, 0].sum()))\n",
    "        \n",
    "            if extended_bins[i + 1] / 512**2 > max_percentile:\n",
    "                early_stop = True\n",
    "            \n",
    "            if early_stop:\n",
    "                break\n",
    "        \n",
    "        plt.plot(xs, precisions, label= 'precision ' + str(thrs[j]))\n",
    "    plt.legend(loc='best')\n",
    "    plt.xlabel('noise per cent')\n",
    "    plt.show()"
   ]
  },
  {
   "cell_type": "code",
   "execution_count": 9,
   "metadata": {
    "collapsed": false
   },
   "outputs": [],
   "source": [
    "def draw_precision_recall(x_val, y_val):\n",
    "    prediction = network.predict(x_val)\n",
    "    target = get_target(y_val)\n",
    "\n",
    "    precision, recall, thr = precision_recall_curve(target.ravel(), prediction.ravel())\n",
    "    average_precision = average_precision_score(target.ravel(), prediction.ravel())\n",
    "\n",
    "    # Plot Precision-Recall curve\n",
    "    plt.clf()\n",
    "    plt.plot(recall, precision, label='Precision-Recall curve')\n",
    "    plt.plot(np.arange(thr.shape[0]) / (thr.shape[0] + 1e-6), thr, label='Threshold')\n",
    "    plt.xlabel('Recall')\n",
    "    plt.ylabel('Precision')\n",
    "    plt.ylim([0.0, 1.05])\n",
    "    plt.xlim([0.0, 1.0])\n",
    "    plt.title('Precision-Recall example: AUC={0:0.2f}'.format(average_precision))\n",
    "    plt.legend(loc='best')\n",
    "    plt.show()\n",
    "    \n",
    "    for r in [0.90, 0.95, 0.99, 0.999]:\n",
    "        print 'Recall:', recall[np.max(np.where(recall >= r))]\n",
    "        print 'Precision:', precision[np.max(np.where(recall >= r))]\n",
    "        print"
   ]
  },
  {
   "cell_type": "code",
   "execution_count": 11,
   "metadata": {
    "collapsed": true
   },
   "outputs": [],
   "source": [
    "x_val = dataset[:2000]\n",
    "y_val = track_targets[:2000]"
   ]
  },
  {
   "cell_type": "code",
   "execution_count": 12,
   "metadata": {
    "collapsed": false
   },
   "outputs": [
    {
     "data": {
      "text/plain": [
       "array(1.8290013732910155)"
      ]
     },
     "execution_count": 12,
     "metadata": {},
     "output_type": "execute_result"
    }
   ],
   "source": [
    "estimate_complexity(x_val, y_val)"
   ]
  },
  {
   "cell_type": "code",
   "execution_count": 18,
   "metadata": {
    "collapsed": false
   },
   "outputs": [],
   "source": [
    "network.evaluate(x_val, y_val)"
   ]
  },
  {
   "cell_type": "code",
   "execution_count": 13,
   "metadata": {
    "collapsed": false
   },
   "outputs": [],
   "source": [
    "def baseline_precision_recall(x_val, y_val):\n",
    "    prediction = get_target(x_val).ravel()\n",
    "    target = get_target(y_val).ravel()\n",
    "\n",
    "    precision, recall, thr = precision_recall_curve(target.ravel(), prediction.ravel())\n",
    "    average_precision = average_precision_score(target.ravel(), prediction.ravel())\n",
    "\n",
    "    # Plot Precision-Recall curve\n",
    "    plt.clf()\n",
    "    plt.plot(recall, precision, label='Precision-Recall curve')\n",
    "    plt.plot(np.arange(thr.shape[0]) / (thr.shape[0] + 1e-6), thr, label='Threshold')\n",
    "    plt.xlabel('Recall')\n",
    "    plt.ylabel('Precision')\n",
    "    plt.ylim([0.0, 1.05])\n",
    "    plt.xlim([0.0, 1.0])\n",
    "    plt.title('Precision-Recall example: AUC={0:0.2f}'.format(average_precision))\n",
    "    plt.legend(loc='best')\n",
    "    plt.show()"
   ]
  },
  {
   "cell_type": "code",
   "execution_count": null,
   "metadata": {
    "collapsed": false
   },
   "outputs": [],
   "source": [
    "network.load('../weights', '3cascades_not_clear_trained')\n",
    "draw_precision_recall(x_val, y_val)"
   ]
  },
  {
   "cell_type": "code",
   "execution_count": 72,
   "metadata": {
    "collapsed": false
   },
   "outputs": [
    {
     "data": {
      "image/png": "[encoded data removed]",
      "text/plain": [
       "<matplotlib.figure.Figure at 0x7f6320214f90>"
      ]
     },
     "metadata": {},
     "output_type": "display_data"
    }
   ],
   "source": [
    "baseline_precision_recall(dataset[:2000], y_val[:2000])"
   ]
  },
  {
   "cell_type": "code",
   "execution_count": 77,
   "metadata": {
    "collapsed": false
   },
   "outputs": [
    {
     "data": {
      "image/png": "[encoded data removed]",
      "text/plain": [
       "<matplotlib.figure.Figure at 0x7f6378d3cd10>"
      ]
     },
     "metadata": {},
     "output_type": "display_data"
    },
    {
     "data": {
      "image/png": "[encoded data removed]",
      "text/plain": [
       "<matplotlib.figure.Figure at 0x7f630ba75e50>"
      ]
     },
     "metadata": {},
     "output_type": "display_data"
    },
    {
     "data": {
      "image/png": "[encoded data removed]",
      "text/plain": [
       "<matplotlib.figure.Figure at 0x7f630ba750d0>"
      ]
     },
     "metadata": {},
     "output_type": "display_data"
    }
   ],
   "source": [
    "i = 1\n",
    "\n",
    "plt.imshow(get_target(x_val)[i, 0], interpolation='none')\n",
    "plt.colorbar()\n",
    "plt.show()\n",
    "\n",
    "plt.imshow(get_target(y_val)[i, 0], interpolation='none')\n",
    "plt.colorbar()\n",
    "plt.show()\n",
    "\n",
    "plt.imshow(network.predict(x_val)[i, 0], interpolation='none')\n",
    "plt.colorbar()\n",
    "plt.show()"
   ]
  },
  {
   "cell_type": "code",
   "execution_count": null,
   "metadata": {
    "collapsed": true
   },
   "outputs": [],
   "source": []
  },
  {
   "cell_type": "code",
   "execution_count": 83,
   "metadata": {
    "collapsed": false
   },
   "outputs": [],
   "source": [
    "recall_by_num_noise99, dataset_by_num_noise99 = compute_recall_by_num_noise(dataset, targets, thr[np.max(np.where(recall >= 0.99))])\n",
    "recall_by_num_noise95, dataset_by_num_noise95 = compute_recall_by_num_noise(dataset, targets, thr[np.max(np.where(recall >= 0.95))])\n",
    "recall_by_num_noise90, dataset_by_num_noise90 = compute_recall_by_num_noise(dataset, targets, thr[np.max(np.where(recall >= 0.90))])"
   ]
  },
  {
   "cell_type": "code",
   "execution_count": null,
   "metadata": {
    "collapsed": false
   },
   "outputs": [],
   "source": []
  },
  {
   "cell_type": "code",
   "execution_count": null,
   "metadata": {
    "collapsed": false
   },
   "outputs": [],
   "source": [
    "with open('../weights/recall_by_num_noise.pkl', 'wb') as f:\n",
    "    pickle.dump([recall_by_num_noise99,\n",
    "                 recall_by_num_noise95,\n",
    "                 recall_by_num_noise90], f)"
   ]
  },
  {
   "cell_type": "code",
   "execution_count": null,
   "metadata": {
    "collapsed": true
   },
   "outputs": [],
   "source": [
    "with open('../weights/dataset_by_num_noise.pkl', 'wb') as f:\n",
    "    pickle.dump([dataset_by_num_noise99,\n",
    "                 dataset_by_num_noise95,\n",
    "                 dataset_by_num_noise90], f)"
   ]
  },
  {
   "cell_type": "code",
   "execution_count": null,
   "metadata": {
    "collapsed": false
   },
   "outputs": [],
   "source": [
    "with open('../weights/recall_by_num_noise.pkl') as f:\n",
    "    recall_by_num_noise99, recall_by_num_noise95, recall_by_num_noise90 = pickle.load(f)"
   ]
  },
  {
   "cell_type": "code",
   "execution_count": null,
   "metadata": {
    "collapsed": false
   },
   "outputs": [],
   "source": []
  },
  {
   "cell_type": "code",
   "execution_count": 66,
   "metadata": {
    "collapsed": false
   },
   "outputs": [
    {
     "data": {
      "image/png": "[encoded data removed]",
      "text/plain": [
       "<matplotlib.figure.Figure at 0x7f62ecdf3ad0>"
      ]
     },
     "metadata": {},
     "output_type": "display_data"
    }
   ],
   "source": [
    "draw_precision_by_num_noise([recall_by_num_noise99,\n",
    "                             recall_by_num_noise95,\n",
    "                             recall_by_num_noise90], [99, 95, 90])"
   ]
  },
  {
   "cell_type": "code",
   "execution_count": null,
   "metadata": {
    "collapsed": false
   },
   "outputs": [],
   "source": [
    "def draw_fake_rate_by_num_noise(recall_by_num_noises, thrs, max_percentile=0.1, num_bins=30):\n",
    "    fake_rates = []\n",
    "    \n",
    "    for j, recall_by_num_noise in enumerate(recall_by_num_noises):\n",
    "        counts, bins = np.histogram(recall_by_num_noise.keys(), bins=num_bins)\n",
    "        extended_bins = np.hstack((np.array([-np.inf]), bins, np.array([np.inf])))\n",
    "        \n",
    "        xs = []\n",
    "        fake_rate = []\n",
    "        \n",
    "        early_stop = False\n",
    "        for i in range(len(extended_bins) - 1):\n",
    "            if early_stop:\n",
    "                break\n",
    "                \n",
    "            examples = []\n",
    "            for k, v in recall_by_num_noise.items():\n",
    "                if k > extended_bins[i] and k <= extended_bins[i + 1]:\n",
    "                    examples += v\n",
    "            \n",
    "            if not examples:\n",
    "                for k, v in recall_by_num_noise.items():\n",
    "                    if k > extended_bins[i]:\n",
    "                        examples += v\n",
    "                \n",
    "                early_stop = True\n",
    "           \n",
    "            xs.append(extended_bins[i + 1] / 512**2)\n",
    "            examples = np.array(examples)\n",
    "    \n",
    "            fake_rate.append(np.max((examples[:, 0].sum() - examples[:, 1].sum(), 0)) / float(examples[:, 0].sum()))\n",
    "        \n",
    "            if extended_bins[i + 1] / 512**2 > max_percentile:\n",
    "                early_stop = True\n",
    "            \n",
    "            if early_stop:\n",
    "                break\n",
    "        \n",
    "        plt.plot(xs, fake_rate, label= 'fake rate, recall = {}'.format(thrs[j]))\n",
    "        fake_rates.append(fake_rate)\n",
    "    plt.legend(loc='best')\n",
    "    plt.xlabel('noise per cent')\n",
    "    plt.show()\n",
    "    \n",
    "    return xs, fake_rates"
   ]
  },
  {
   "cell_type": "code",
   "execution_count": null,
   "metadata": {
    "collapsed": false
   },
   "outputs": [],
   "source": [
    "xs, fake_rates = draw_fake_rate_by_num_noise([recall_by_num_noise99,\n",
    "                                              recall_by_num_noise95,\n",
    "                                              recall_by_num_noise90], [99, 95, 90], num_bins=50)"
   ]
  },
  {
   "cell_type": "code",
   "execution_count": null,
   "metadata": {
    "collapsed": false
   },
   "outputs": [],
   "source": [
    "with open('../weights/fake_rates_by_num_noise.pkl', 'wb') as f:\n",
    "    pickle.dump([xs, fake_rates], f)"
   ]
  },
  {
   "cell_type": "code",
   "execution_count": null,
   "metadata": {
    "collapsed": true
   },
   "outputs": [],
   "source": []
  },
  {
   "cell_type": "code",
   "execution_count": 86,
   "metadata": {
    "collapsed": false
   },
   "outputs": [
    {
     "data": {
      "text/plain": [
       "(array([ 404.,  309.,  283.,  203.,  196.,  134.,  116.,  104.,   89.,  123.]),\n",
       " array([  3.81469727e-06,   5.00335693e-03,   1.00028992e-02,\n",
       "          1.50024414e-02,   2.00019836e-02,   2.50015259e-02,\n",
       "          3.00010681e-02,   3.50006104e-02,   4.00001526e-02,\n",
       "          4.49996948e-02,   4.99992371e-02]),\n",
       " <a list of 10 Patch objects>)"
      ]
     },
     "execution_count": 86,
     "metadata": {},
     "output_type": "execute_result"
    },
    {
     "data": {
      "image/png": "[encoded data removed]",
      "text/plain": [
       "<matplotlib.figure.Figure at 0x7f630af02b50>"
      ]
     },
     "metadata": {},
     "output_type": "display_data"
    }
   ],
   "source": [
    "plt.hist(np.array(recall_by_num_noise99.keys()) / 512.0**2, bins=10)"
   ]
  },
  {
   "cell_type": "code",
   "execution_count": 81,
   "metadata": {
    "collapsed": false
   },
   "outputs": [
    {
     "data": {
      "text/plain": [
       "(2500, 1, 512, 512)"
      ]
     },
     "execution_count": 81,
     "metadata": {},
     "output_type": "execute_result"
    }
   ],
   "source": [
    "dataset.shape"
   ]
  },
  {
   "cell_type": "code",
   "execution_count": 100,
   "metadata": {
    "collapsed": false
   },
   "outputs": [
    {
     "data": {
      "text/plain": [
       "(array([ 468.,  360.,  317.,  219.,  209.,  150.,  119.,  106.,   92.,  460.]),\n",
       " array([  3.81469727e-06,   5.00335693e-03,   1.00028992e-02,\n",
       "          1.50024414e-02,   2.00019836e-02,   2.50015259e-02,\n",
       "          3.00010681e-02,   3.50006104e-02,   4.00001526e-02,\n",
       "          4.49996948e-02,   4.99992371e-02]),\n",
       " <a list of 10 Patch objects>)"
      ]
     },
     "execution_count": 100,
     "metadata": {},
     "output_type": "execute_result"
    },
    {
     "data": {
      "image/png": "[encoded data removed]",
      "text/plain": [
       "<matplotlib.figure.Figure at 0x7f62f1012410>"
      ]
     },
     "metadata": {},
     "output_type": "display_data"
    }
   ],
   "source": [
    "plt.hist(((dataset * (1 - targets)) == 5).reshape((-1, 512 * 512)).sum(axis=1) / 512.0**2)"
   ]
  },
  {
   "cell_type": "code",
   "execution_count": 91,
   "metadata": {
    "collapsed": false
   },
   "outputs": [
    {
     "data": {
      "text/plain": [
       "(1, 512, 512)"
      ]
     },
     "execution_count": 91,
     "metadata": {},
     "output_type": "execute_result"
    }
   ],
   "source": [
    "(dataset==5).sum(axis=0).shape"
   ]
  },
  {
   "cell_type": "code",
   "execution_count": null,
   "metadata": {
    "collapsed": true
   },
   "outputs": [],
   "source": []
  }
 ],
 "metadata": {
  "kernelspec": {
   "display_name": "Python 2",
   "language": "python",
   "name": "python2"
  },
  "language_info": {
   "codemirror_mode": {
    "name": "ipython",
    "version": 2
   },
   "file_extension": ".py",
   "mimetype": "text/x-python",
   "name": "python",
   "nbconvert_exporter": "python",
   "pygments_lexer": "ipython2",
   "version": "2.7.11"
  }
 },
 "nbformat": 4,
 "nbformat_minor": 0
}

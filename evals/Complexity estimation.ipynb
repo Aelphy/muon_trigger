{
 "cells": [
  {
   "cell_type": "code",
   "execution_count": 1,
   "metadata": {
    "collapsed": false
   },
   "outputs": [],
   "source": [
    "#ipynb config\n",
    "import sys\n",
    "sys.path.append('..')\n",
    "%load_ext autoreload\n",
    "%autoreload 2"
   ]
  },
  {
   "cell_type": "code",
   "execution_count": 2,
   "metadata": {
    "collapsed": false
   },
   "outputs": [
    {
     "name": "stderr",
     "output_type": "stream",
     "text": [
      "Using gpu device 0: GeForce GTX TITAN X (CNMeM is disabled, cuDNN 5005)\n",
      "/home/apanin/anaconda/lib/python2.7/site-packages/IPython/kernel/__init__.py:13: ShimWarning: The `IPython.kernel` package has been deprecated. You should import from ipykernel or jupyter_client instead.\n",
      "  \"You should import from ipykernel or jupyter_client instead.\", ShimWarning)\n"
     ]
    }
   ],
   "source": [
    "from sklearn.cross_validation import train_test_split\n",
    "from models.cascade_base import CascadeBase\n",
    "from utils.visualizer import Visualizer\n",
    "from IPython.display import SVG, display\n",
    "\n",
    "import numpy as np\n",
    "import matplotlib.pyplot as plt\n",
    "\n",
    "import time\n",
    "import pydot\n",
    "import lasagne\n",
    "\n",
    "plt.style.use('ggplot')\n",
    "\n",
    "%matplotlib inline"
   ]
  },
  {
   "cell_type": "code",
   "execution_count": 3,
   "metadata": {
    "collapsed": false
   },
   "outputs": [],
   "source": [
    "dataset0 = np.load('../data/not_bright/imgs_0000.npy')\n",
    "targets0 = np.load('../data/not_bright/masks_0000.npy')\n",
    "dataset1 = np.load('../data/not_bright/imgs_0000.npy')\n",
    "targets1 = np.load('../data/not_bright/masks_0000.npy')\n",
    "\n",
    "dataset = np.stack((dataset0, dataset1))\n",
    "targets = np.stack((targets0, targets1))\n",
    "\n",
    "track_targets = targets.copy()\n",
    "track_targets[track_targets <=0] = 0"
   ]
  },
  {
   "cell_type": "code",
   "execution_count": 4,
   "metadata": {
    "collapsed": false
   },
   "outputs": [],
   "source": [
    "X_y = train_test_split(dataset.reshape(-1, 1, 512, 512).astype(np.float32),\n",
    "                       track_targets.reshape(-1, 1, 512, 512).astype(np.float32))"
   ]
  },
  {
   "cell_type": "markdown",
   "metadata": {},
   "source": [
    "## load pretrained on big images network"
   ]
  },
  {
   "cell_type": "code",
   "execution_count": 5,
   "metadata": {
    "collapsed": false
   },
   "outputs": [],
   "source": [
    "network = CascadeBase(img_shape=(512, 512),\n",
    "                      learning_rate=1e-3,\n",
    "                      c=1e-1,\n",
    "                      c_complexity=1,\n",
    "                      c_sub_objs=[1, 1, 1],\n",
    "                      c_sub_obj_cs=[1e-1, 1e-1, 1e-1],\n",
    "                      mul=True,\n",
    "                      pool_sizes=[2, 2, 2, 2],\n",
    "                      num_filters=[1, 1, 3, 6],\n",
    "                      filter_sizes=[1, 3, 3, 3],\n",
    "                      l2_c=1e-3)"
   ]
  },
  {
   "cell_type": "code",
   "execution_count": 38,
   "metadata": {
    "collapsed": true
   },
   "outputs": [],
   "source": [
    "network.load('../weights/', '3cascades_stable_recall')"
   ]
  },
  {
   "cell_type": "code",
   "execution_count": 59,
   "metadata": {
    "collapsed": true
   },
   "outputs": [],
   "source": [
    "import theano\n",
    "import theano.tensor as T"
   ]
  },
  {
   "cell_type": "code",
   "execution_count": 39,
   "metadata": {
    "collapsed": false
   },
   "outputs": [],
   "source": [
    "X = X_y[1][:100]\n",
    "t = X_y[-1][:100]\n",
    "\n",
    "prediction = network.predict(X)"
   ]
  },
  {
   "cell_type": "code",
   "execution_count": 40,
   "metadata": {
    "collapsed": false
   },
   "outputs": [],
   "source": [
    "get_target = theano.function([network.targets], lasagne.layers.get_output(network.target_pool_layers[-1]))"
   ]
  },
  {
   "cell_type": "code",
   "execution_count": 41,
   "metadata": {
    "collapsed": false
   },
   "outputs": [
    {
     "data": {
      "image/png": "[encoded data removed]",
      "text/plain": [
       "<matplotlib.figure.Figure at 0x7f053d949dd0>"
      ]
     },
     "metadata": {},
     "output_type": "display_data"
    }
   ],
   "source": [
    "from sklearn.metrics import precision_recall_curve, average_precision_score\n",
    "\n",
    "x_val = X_y[1][:100]\n",
    "y_val = X_y[-1][:100]\n",
    "\n",
    "prediction = network.predict(x_val)\n",
    "target = get_target(y_val)\n",
    "\n",
    "precision, recall, thr = precision_recall_curve(target.ravel(), prediction.ravel())\n",
    "average_precision = average_precision_score(target.ravel(), prediction.ravel())\n",
    "\n",
    "# Plot Precision-Recall curve\n",
    "plt.clf()\n",
    "plt.plot(recall, precision, label='Precision-Recall curve')\n",
    "plt.plot(np.arange(thr.shape[0]) / (thr.shape[0] + 1e-6), thr, label='Threshold')\n",
    "plt.xlabel('Recall')\n",
    "plt.ylabel('Precision')\n",
    "plt.ylim([0.0, 1.05])\n",
    "plt.xlim([0.0, 1.0])\n",
    "plt.title('Precision-Recall example: AUC={0:0.2f}'.format(average_precision))\n",
    "plt.legend(loc='best')\n",
    "plt.show()"
   ]
  },
  {
   "cell_type": "code",
   "execution_count": 10,
   "metadata": {
    "collapsed": false
   },
   "outputs": [
    {
     "data": {
      "application/javascript": [
       "/* Put everything inside the global mpl namespace */\n",
       "window.mpl = {};\n",
       "\n",
       "mpl.get_websocket_type = function() {\n",
       "    if (typeof(WebSocket) !== 'undefined') {\n",
       "        return WebSocket;\n",
       "    } else if (typeof(MozWebSocket) !== 'undefined') {\n",
       "        return MozWebSocket;\n",
       "    } else {\n",
       "        alert('Your browser does not have WebSocket support.' +\n",
       "              'Please try Chrome, Safari or Firefox ≥ 6. ' +\n",
       "              'Firefox 4 and 5 are also supported but you ' +\n",
       "              'have to enable WebSockets in about:config.');\n",
       "    };\n",
       "}\n",
       "\n",
       "mpl.figure = function(figure_id, websocket, ondownload, parent_element) {\n",
       "    this.id = figure_id;\n",
       "\n",
       "    this.ws = websocket;\n",
       "\n",
       "    this.supports_binary = (this.ws.binaryType != undefined);\n",
       "\n",
       "    if (!this.supports_binary) {\n",
       "        var warnings = document.getElementById(\"mpl-warnings\");\n",
       "        if (warnings) {\n",
       "            warnings.style.display = 'block';\n",
       "            warnings.textContent = (\n",
       "                \"This browser does not support binary websocket messages. \" +\n",
       "                    \"Performance may be slow.\");\n",
       "        }\n",
       "    }\n",
       "\n",
       "    this.imageObj = new Image();\n",
       "\n",
       "    this.context = undefined;\n",
       "    this.message = undefined;\n",
       "    this.canvas = undefined;\n",
       "    this.rubberband_canvas = undefined;\n",
       "    this.rubberband_context = undefined;\n",
       "    this.format_dropdown = undefined;\n",
       "\n",
       "    this.image_mode = 'full';\n",
       "\n",
       "    this.root = $('<div/>');\n",
       "    this._root_extra_style(this.root)\n",
       "    this.root.attr('style', 'display: inline-block');\n",
       "\n",
       "    $(parent_element).append(this.root);\n",
       "\n",
       "    this._init_header(this);\n",
       "    this._init_canvas(this);\n",
       "    this._init_toolbar(this);\n",
       "\n",
       "    var fig = this;\n",
       "\n",
       "    this.waiting = false;\n",
       "\n",
       "    this.ws.onopen =  function () {\n",
       "            fig.send_message(\"supports_binary\", {value: fig.supports_binary});\n",
       "            fig.send_message(\"send_image_mode\", {});\n",
       "            fig.send_message(\"refresh\", {});\n",
       "        }\n",
       "\n",
       "    this.imageObj.onload = function() {\n",
       "            if (fig.image_mode == 'full') {\n",
       "                // Full images could contain transparency (where diff images\n",
       "                // almost always do), so we need to clear the canvas so that\n",
       "                // there is no ghosting.\n",
       "                fig.context.clearRect(0, 0, fig.canvas.width, fig.canvas.height);\n",
       "            }\n",
       "            fig.context.drawImage(fig.imageObj, 0, 0);\n",
       "            fig.waiting = false;\n",
       "        };\n",
       "\n",
       "    this.imageObj.onunload = function() {\n",
       "        this.ws.close();\n",
       "    }\n",
       "\n",
       "    this.ws.onmessage = this._make_on_message_function(this);\n",
       "\n",
       "    this.ondownload = ondownload;\n",
       "}\n",
       "\n",
       "mpl.figure.prototype._init_header = function() {\n",
       "    var titlebar = $(\n",
       "        '<div class=\"ui-dialog-titlebar ui-widget-header ui-corner-all ' +\n",
       "        'ui-helper-clearfix\"/>');\n",
       "    var titletext = $(\n",
       "        '<div class=\"ui-dialog-title\" style=\"width: 100%; ' +\n",
       "        'text-align: center; padding: 3px;\"/>');\n",
       "    titlebar.append(titletext)\n",
       "    this.root.append(titlebar);\n",
       "    this.header = titletext[0];\n",
       "}\n",
       "\n",
       "\n",
       "\n",
       "mpl.figure.prototype._canvas_extra_style = function(canvas_div) {\n",
       "\n",
       "}\n",
       "\n",
       "\n",
       "mpl.figure.prototype._root_extra_style = function(canvas_div) {\n",
       "\n",
       "}\n",
       "\n",
       "mpl.figure.prototype._init_canvas = function() {\n",
       "    var fig = this;\n",
       "\n",
       "    var canvas_div = $('<div/>');\n",
       "\n",
       "    canvas_div.attr('style', 'position: relative; clear: both; outline: 0');\n",
       "\n",
       "    function canvas_keyboard_event(event) {\n",
       "        return fig.key_event(event, event['data']);\n",
       "    }\n",
       "\n",
       "    canvas_div.keydown('key_press', canvas_keyboard_event);\n",
       "    canvas_div.keyup('key_release', canvas_keyboard_event);\n",
       "    this.canvas_div = canvas_div\n",
       "    this._canvas_extra_style(canvas_div)\n",
       "    this.root.append(canvas_div);\n",
       "\n",
       "    var canvas = $('<canvas/>');\n",
       "    canvas.addClass('mpl-canvas');\n",
       "    canvas.attr('style', \"left: 0; top: 0; z-index: 0; outline: 0\")\n",
       "\n",
       "    this.canvas = canvas[0];\n",
       "    this.context = canvas[0].getContext(\"2d\");\n",
       "\n",
       "    var rubberband = $('<canvas/>');\n",
       "    rubberband.attr('style', \"position: absolute; left: 0; top: 0; z-index: 1;\")\n",
       "\n",
       "    var pass_mouse_events = true;\n",
       "\n",
       "    canvas_div.resizable({\n",
       "        start: function(event, ui) {\n",
       "            pass_mouse_events = false;\n",
       "        },\n",
       "        resize: function(event, ui) {\n",
       "            fig.request_resize(ui.size.width, ui.size.height);\n",
       "        },\n",
       "        stop: function(event, ui) {\n",
       "            pass_mouse_events = true;\n",
       "            fig.request_resize(ui.size.width, ui.size.height);\n",
       "        },\n",
       "    });\n",
       "\n",
       "    function mouse_event_fn(event) {\n",
       "        if (pass_mouse_events)\n",
       "            return fig.mouse_event(event, event['data']);\n",
       "    }\n",
       "\n",
       "    rubberband.mousedown('button_press', mouse_event_fn);\n",
       "    rubberband.mouseup('button_release', mouse_event_fn);\n",
       "    // Throttle sequential mouse events to 1 every 20ms.\n",
       "    rubberband.mousemove('motion_notify', mouse_event_fn);\n",
       "\n",
       "    rubberband.mouseenter('figure_enter', mouse_event_fn);\n",
       "    rubberband.mouseleave('figure_leave', mouse_event_fn);\n",
       "\n",
       "    canvas_div.on(\"wheel\", function (event) {\n",
       "        event = event.originalEvent;\n",
       "        event['data'] = 'scroll'\n",
       "        if (event.deltaY < 0) {\n",
       "            event.step = 1;\n",
       "        } else {\n",
       "            event.step = -1;\n",
       "        }\n",
       "        mouse_event_fn(event);\n",
       "    });\n",
       "\n",
       "    canvas_div.append(canvas);\n",
       "    canvas_div.append(rubberband);\n",
       "\n",
       "    this.rubberband = rubberband;\n",
       "    this.rubberband_canvas = rubberband[0];\n",
       "    this.rubberband_context = rubberband[0].getContext(\"2d\");\n",
       "    this.rubberband_context.strokeStyle = \"#000000\";\n",
       "\n",
       "    this._resize_canvas = function(width, height) {\n",
       "        // Keep the size of the canvas, canvas container, and rubber band\n",
       "        // canvas in synch.\n",
       "        canvas_div.css('width', width)\n",
       "        canvas_div.css('height', height)\n",
       "\n",
       "        canvas.attr('width', width);\n",
       "        canvas.attr('height', height);\n",
       "\n",
       "        rubberband.attr('width', width);\n",
       "        rubberband.attr('height', height);\n",
       "    }\n",
       "\n",
       "    // Set the figure to an initial 600x600px, this will subsequently be updated\n",
       "    // upon first draw.\n",
       "    this._resize_canvas(600, 600);\n",
       "\n",
       "    // Disable right mouse context menu.\n",
       "    $(this.rubberband_canvas).bind(\"contextmenu\",function(e){\n",
       "        return false;\n",
       "    });\n",
       "\n",
       "    function set_focus () {\n",
       "        canvas.focus();\n",
       "        canvas_div.focus();\n",
       "    }\n",
       "\n",
       "    window.setTimeout(set_focus, 100);\n",
       "}\n",
       "\n",
       "mpl.figure.prototype._init_toolbar = function() {\n",
       "    var fig = this;\n",
       "\n",
       "    var nav_element = $('<div/>')\n",
       "    nav_element.attr('style', 'width: 100%');\n",
       "    this.root.append(nav_element);\n",
       "\n",
       "    // Define a callback function for later on.\n",
       "    function toolbar_event(event) {\n",
       "        return fig.toolbar_button_onclick(event['data']);\n",
       "    }\n",
       "    function toolbar_mouse_event(event) {\n",
       "        return fig.toolbar_button_onmouseover(event['data']);\n",
       "    }\n",
       "\n",
       "    for(var toolbar_ind in mpl.toolbar_items) {\n",
       "        var name = mpl.toolbar_items[toolbar_ind][0];\n",
       "        var tooltip = mpl.toolbar_items[toolbar_ind][1];\n",
       "        var image = mpl.toolbar_items[toolbar_ind][2];\n",
       "        var method_name = mpl.toolbar_items[toolbar_ind][3];\n",
       "\n",
       "        if (!name) {\n",
       "            // put a spacer in here.\n",
       "            continue;\n",
       "        }\n",
       "        var button = $('<button/>');\n",
       "        button.addClass('ui-button ui-widget ui-state-default ui-corner-all ' +\n",
       "                        'ui-button-icon-only');\n",
       "        button.attr('role', 'button');\n",
       "        button.attr('aria-disabled', 'false');\n",
       "        button.click(method_name, toolbar_event);\n",
       "        button.mouseover(tooltip, toolbar_mouse_event);\n",
       "\n",
       "        var icon_img = $('<span/>');\n",
       "        icon_img.addClass('ui-button-icon-primary ui-icon');\n",
       "        icon_img.addClass(image);\n",
       "        icon_img.addClass('ui-corner-all');\n",
       "\n",
       "        var tooltip_span = $('<span/>');\n",
       "        tooltip_span.addClass('ui-button-text');\n",
       "        tooltip_span.html(tooltip);\n",
       "\n",
       "        button.append(icon_img);\n",
       "        button.append(tooltip_span);\n",
       "\n",
       "        nav_element.append(button);\n",
       "    }\n",
       "\n",
       "    var fmt_picker_span = $('<span/>');\n",
       "\n",
       "    var fmt_picker = $('<select/>');\n",
       "    fmt_picker.addClass('mpl-toolbar-option ui-widget ui-widget-content');\n",
       "    fmt_picker_span.append(fmt_picker);\n",
       "    nav_element.append(fmt_picker_span);\n",
       "    this.format_dropdown = fmt_picker[0];\n",
       "\n",
       "    for (var ind in mpl.extensions) {\n",
       "        var fmt = mpl.extensions[ind];\n",
       "        var option = $(\n",
       "            '<option/>', {selected: fmt === mpl.default_extension}).html(fmt);\n",
       "        fmt_picker.append(option)\n",
       "    }\n",
       "\n",
       "    // Add hover states to the ui-buttons\n",
       "    $( \".ui-button\" ).hover(\n",
       "        function() { $(this).addClass(\"ui-state-hover\");},\n",
       "        function() { $(this).removeClass(\"ui-state-hover\");}\n",
       "    );\n",
       "\n",
       "    var status_bar = $('<span class=\"mpl-message\"/>');\n",
       "    nav_element.append(status_bar);\n",
       "    this.message = status_bar[0];\n",
       "}\n",
       "\n",
       "mpl.figure.prototype.request_resize = function(x_pixels, y_pixels) {\n",
       "    // Request matplotlib to resize the figure. Matplotlib will then trigger a resize in the client,\n",
       "    // which will in turn request a refresh of the image.\n",
       "    this.send_message('resize', {'width': x_pixels, 'height': y_pixels});\n",
       "}\n",
       "\n",
       "mpl.figure.prototype.send_message = function(type, properties) {\n",
       "    properties['type'] = type;\n",
       "    properties['figure_id'] = this.id;\n",
       "    this.ws.send(JSON.stringify(properties));\n",
       "}\n",
       "\n",
       "mpl.figure.prototype.send_draw_message = function() {\n",
       "    if (!this.waiting) {\n",
       "        this.waiting = true;\n",
       "        this.ws.send(JSON.stringify({type: \"draw\", figure_id: this.id}));\n",
       "    }\n",
       "}\n",
       "\n",
       "\n",
       "mpl.figure.prototype.handle_save = function(fig, msg) {\n",
       "    var format_dropdown = fig.format_dropdown;\n",
       "    var format = format_dropdown.options[format_dropdown.selectedIndex].value;\n",
       "    fig.ondownload(fig, format);\n",
       "}\n",
       "\n",
       "\n",
       "mpl.figure.prototype.handle_resize = function(fig, msg) {\n",
       "    var size = msg['size'];\n",
       "    if (size[0] != fig.canvas.width || size[1] != fig.canvas.height) {\n",
       "        fig._resize_canvas(size[0], size[1]);\n",
       "        fig.send_message(\"refresh\", {});\n",
       "    };\n",
       "}\n",
       "\n",
       "mpl.figure.prototype.handle_rubberband = function(fig, msg) {\n",
       "    var x0 = msg['x0'];\n",
       "    var y0 = fig.canvas.height - msg['y0'];\n",
       "    var x1 = msg['x1'];\n",
       "    var y1 = fig.canvas.height - msg['y1'];\n",
       "    x0 = Math.floor(x0) + 0.5;\n",
       "    y0 = Math.floor(y0) + 0.5;\n",
       "    x1 = Math.floor(x1) + 0.5;\n",
       "    y1 = Math.floor(y1) + 0.5;\n",
       "    var min_x = Math.min(x0, x1);\n",
       "    var min_y = Math.min(y0, y1);\n",
       "    var width = Math.abs(x1 - x0);\n",
       "    var height = Math.abs(y1 - y0);\n",
       "\n",
       "    fig.rubberband_context.clearRect(\n",
       "        0, 0, fig.canvas.width, fig.canvas.height);\n",
       "\n",
       "    fig.rubberband_context.strokeRect(min_x, min_y, width, height);\n",
       "}\n",
       "\n",
       "mpl.figure.prototype.handle_figure_label = function(fig, msg) {\n",
       "    // Updates the figure title.\n",
       "    fig.header.textContent = msg['label'];\n",
       "}\n",
       "\n",
       "mpl.figure.prototype.handle_cursor = function(fig, msg) {\n",
       "    var cursor = msg['cursor'];\n",
       "    switch(cursor)\n",
       "    {\n",
       "    case 0:\n",
       "        cursor = 'pointer';\n",
       "        break;\n",
       "    case 1:\n",
       "        cursor = 'default';\n",
       "        break;\n",
       "    case 2:\n",
       "        cursor = 'crosshair';\n",
       "        break;\n",
       "    case 3:\n",
       "        cursor = 'move';\n",
       "        break;\n",
       "    }\n",
       "    fig.rubberband_canvas.style.cursor = cursor;\n",
       "}\n",
       "\n",
       "mpl.figure.prototype.handle_message = function(fig, msg) {\n",
       "    fig.message.textContent = msg['message'];\n",
       "}\n",
       "\n",
       "mpl.figure.prototype.handle_draw = function(fig, msg) {\n",
       "    // Request the server to send over a new figure.\n",
       "    fig.send_draw_message();\n",
       "}\n",
       "\n",
       "mpl.figure.prototype.handle_image_mode = function(fig, msg) {\n",
       "    fig.image_mode = msg['mode'];\n",
       "}\n",
       "\n",
       "mpl.figure.prototype.updated_canvas_event = function() {\n",
       "    // Called whenever the canvas gets updated.\n",
       "    this.send_message(\"ack\", {});\n",
       "}\n",
       "\n",
       "// A function to construct a web socket function for onmessage handling.\n",
       "// Called in the figure constructor.\n",
       "mpl.figure.prototype._make_on_message_function = function(fig) {\n",
       "    return function socket_on_message(evt) {\n",
       "        if (evt.data instanceof Blob) {\n",
       "            /* FIXME: We get \"Resource interpreted as Image but\n",
       "             * transferred with MIME type text/plain:\" errors on\n",
       "             * Chrome.  But how to set the MIME type?  It doesn't seem\n",
       "             * to be part of the websocket stream */\n",
       "            evt.data.type = \"image/png\";\n",
       "\n",
       "            /* Free the memory for the previous frames */\n",
       "            if (fig.imageObj.src) {\n",
       "                (window.URL || window.webkitURL).revokeObjectURL(\n",
       "                    fig.imageObj.src);\n",
       "            }\n",
       "\n",
       "            fig.imageObj.src = (window.URL || window.webkitURL).createObjectURL(\n",
       "                evt.data);\n",
       "            fig.updated_canvas_event();\n",
       "            return;\n",
       "        }\n",
       "        else if (typeof evt.data === 'string' && evt.data.slice(0, 21) == \"data:image/png;base64\") {\n",
       "            fig.imageObj.src = evt.data;\n",
       "            fig.updated_canvas_event();\n",
       "            return;\n",
       "        }\n",
       "\n",
       "        var msg = JSON.parse(evt.data);\n",
       "        var msg_type = msg['type'];\n",
       "\n",
       "        // Call the  \"handle_{type}\" callback, which takes\n",
       "        // the figure and JSON message as its only arguments.\n",
       "        try {\n",
       "            var callback = fig[\"handle_\" + msg_type];\n",
       "        } catch (e) {\n",
       "            console.log(\"No handler for the '\" + msg_type + \"' message type: \", msg);\n",
       "            return;\n",
       "        }\n",
       "\n",
       "        if (callback) {\n",
       "            try {\n",
       "                // console.log(\"Handling '\" + msg_type + \"' message: \", msg);\n",
       "                callback(fig, msg);\n",
       "            } catch (e) {\n",
       "                console.log(\"Exception inside the 'handler_\" + msg_type + \"' callback:\", e, e.stack, msg);\n",
       "            }\n",
       "        }\n",
       "    };\n",
       "}\n",
       "\n",
       "// from http://stackoverflow.com/questions/1114465/getting-mouse-location-in-canvas\n",
       "mpl.findpos = function(e) {\n",
       "    //this section is from http://www.quirksmode.org/js/events_properties.html\n",
       "    var targ;\n",
       "    if (!e)\n",
       "        e = window.event;\n",
       "    if (e.target)\n",
       "        targ = e.target;\n",
       "    else if (e.srcElement)\n",
       "        targ = e.srcElement;\n",
       "    if (targ.nodeType == 3) // defeat Safari bug\n",
       "        targ = targ.parentNode;\n",
       "\n",
       "    // jQuery normalizes the pageX and pageY\n",
       "    // pageX,Y are the mouse positions relative to the document\n",
       "    // offset() returns the position of the element relative to the document\n",
       "    var x = e.pageX - $(targ).offset().left;\n",
       "    var y = e.pageY - $(targ).offset().top;\n",
       "\n",
       "    return {\"x\": x, \"y\": y};\n",
       "};\n",
       "\n",
       "mpl.figure.prototype.mouse_event = function(event, name) {\n",
       "    var canvas_pos = mpl.findpos(event)\n",
       "\n",
       "    if (name === 'button_press')\n",
       "    {\n",
       "        this.canvas.focus();\n",
       "        this.canvas_div.focus();\n",
       "    }\n",
       "\n",
       "    var x = canvas_pos.x;\n",
       "    var y = canvas_pos.y;\n",
       "\n",
       "    this.send_message(name, {x: x, y: y, button: event.button,\n",
       "                             step: event.step});\n",
       "\n",
       "    /* This prevents the web browser from automatically changing to\n",
       "     * the text insertion cursor when the button is pressed.  We want\n",
       "     * to control all of the cursor setting manually through the\n",
       "     * 'cursor' event from matplotlib */\n",
       "    event.preventDefault();\n",
       "    return false;\n",
       "}\n",
       "\n",
       "mpl.figure.prototype._key_event_extra = function(event, name) {\n",
       "    // Handle any extra behaviour associated with a key event\n",
       "}\n",
       "\n",
       "mpl.figure.prototype.key_event = function(event, name) {\n",
       "\n",
       "    // Prevent repeat events\n",
       "    if (name == 'key_press')\n",
       "    {\n",
       "        if (event.which === this._key)\n",
       "            return;\n",
       "        else\n",
       "            this._key = event.which;\n",
       "    }\n",
       "    if (name == 'key_release')\n",
       "        this._key = null;\n",
       "\n",
       "    var value = '';\n",
       "    if (event.ctrlKey && event.which != 17)\n",
       "        value += \"ctrl+\";\n",
       "    if (event.altKey && event.which != 18)\n",
       "        value += \"alt+\";\n",
       "    if (event.shiftKey && event.which != 16)\n",
       "        value += \"shift+\";\n",
       "\n",
       "    value += 'k';\n",
       "    value += event.which.toString();\n",
       "\n",
       "    this._key_event_extra(event, name);\n",
       "\n",
       "    this.send_message(name, {key: value});\n",
       "    return false;\n",
       "}\n",
       "\n",
       "mpl.figure.prototype.toolbar_button_onclick = function(name) {\n",
       "    if (name == 'download') {\n",
       "        this.handle_save(this, null);\n",
       "    } else {\n",
       "        this.send_message(\"toolbar_button\", {name: name});\n",
       "    }\n",
       "};\n",
       "\n",
       "mpl.figure.prototype.toolbar_button_onmouseover = function(tooltip) {\n",
       "    this.message.textContent = tooltip;\n",
       "};\n",
       "mpl.toolbar_items = [[\"Home\", \"Reset original view\", \"fa fa-home icon-home\", \"home\"], [\"Back\", \"Back to  previous view\", \"fa fa-arrow-left icon-arrow-left\", \"back\"], [\"Forward\", \"Forward to next view\", \"fa fa-arrow-right icon-arrow-right\", \"forward\"], [\"\", \"\", \"\", \"\"], [\"Pan\", \"Pan axes with left mouse, zoom with right\", \"fa fa-arrows icon-move\", \"pan\"], [\"Zoom\", \"Zoom to rectangle\", \"fa fa-square-o icon-check-empty\", \"zoom\"], [\"\", \"\", \"\", \"\"], [\"Download\", \"Download plot\", \"fa fa-floppy-o icon-save\", \"download\"]];\n",
       "\n",
       "mpl.extensions = [\"eps\", \"jpeg\", \"pdf\", \"png\", \"ps\", \"raw\", \"svg\", \"tif\"];\n",
       "\n",
       "mpl.default_extension = \"png\";var comm_websocket_adapter = function(comm) {\n",
       "    // Create a \"websocket\"-like object which calls the given IPython comm\n",
       "    // object with the appropriate methods. Currently this is a non binary\n",
       "    // socket, so there is still some room for performance tuning.\n",
       "    var ws = {};\n",
       "\n",
       "    ws.close = function() {\n",
       "        comm.close()\n",
       "    };\n",
       "    ws.send = function(m) {\n",
       "        //console.log('sending', m);\n",
       "        comm.send(m);\n",
       "    };\n",
       "    // Register the callback with on_msg.\n",
       "    comm.on_msg(function(msg) {\n",
       "        //console.log('receiving', msg['content']['data'], msg);\n",
       "        // Pass the mpl event to the overriden (by mpl) onmessage function.\n",
       "        ws.onmessage(msg['content']['data'])\n",
       "    });\n",
       "    return ws;\n",
       "}\n",
       "\n",
       "mpl.mpl_figure_comm = function(comm, msg) {\n",
       "    // This is the function which gets called when the mpl process\n",
       "    // starts-up an IPython Comm through the \"matplotlib\" channel.\n",
       "\n",
       "    var id = msg.content.data.id;\n",
       "    // Get hold of the div created by the display call when the Comm\n",
       "    // socket was opened in Python.\n",
       "    var element = $(\"#\" + id);\n",
       "    var ws_proxy = comm_websocket_adapter(comm)\n",
       "\n",
       "    function ondownload(figure, format) {\n",
       "        window.open(figure.imageObj.src);\n",
       "    }\n",
       "\n",
       "    var fig = new mpl.figure(id, ws_proxy,\n",
       "                           ondownload,\n",
       "                           element.get(0));\n",
       "\n",
       "    // Call onopen now - mpl needs it, as it is assuming we've passed it a real\n",
       "    // web socket which is closed, not our websocket->open comm proxy.\n",
       "    ws_proxy.onopen();\n",
       "\n",
       "    fig.parent_element = element.get(0);\n",
       "    fig.cell_info = mpl.find_output_cell(\"<div id='\" + id + \"'></div>\");\n",
       "    if (!fig.cell_info) {\n",
       "        console.error(\"Failed to find cell for figure\", id, fig);\n",
       "        return;\n",
       "    }\n",
       "\n",
       "    var output_index = fig.cell_info[2]\n",
       "    var cell = fig.cell_info[0];\n",
       "\n",
       "};\n",
       "\n",
       "mpl.figure.prototype.handle_close = function(fig, msg) {\n",
       "    // Update the output cell to use the data from the current canvas.\n",
       "    fig.push_to_output();\n",
       "    var dataURL = fig.canvas.toDataURL();\n",
       "    // Re-enable the keyboard manager in IPython - without this line, in FF,\n",
       "    // the notebook keyboard shortcuts fail.\n",
       "    IPython.keyboard_manager.enable()\n",
       "    $(fig.parent_element).html('<img src=\"' + dataURL + '\">');\n",
       "    fig.send_message('closing', {});\n",
       "    fig.ws.close()\n",
       "}\n",
       "\n",
       "mpl.figure.prototype.push_to_output = function(remove_interactive) {\n",
       "    // Turn the data on the canvas into data in the output cell.\n",
       "    var dataURL = this.canvas.toDataURL();\n",
       "    this.cell_info[1]['text/html'] = '<img src=\"' + dataURL + '\">';\n",
       "}\n",
       "\n",
       "mpl.figure.prototype.updated_canvas_event = function() {\n",
       "    // Tell IPython that the notebook contents must change.\n",
       "    IPython.notebook.set_dirty(true);\n",
       "    this.send_message(\"ack\", {});\n",
       "    var fig = this;\n",
       "    // Wait a second, then push the new image to the DOM so\n",
       "    // that it is saved nicely (might be nice to debounce this).\n",
       "    setTimeout(function () { fig.push_to_output() }, 1000);\n",
       "}\n",
       "\n",
       "mpl.figure.prototype._init_toolbar = function() {\n",
       "    var fig = this;\n",
       "\n",
       "    var nav_element = $('<div/>')\n",
       "    nav_element.attr('style', 'width: 100%');\n",
       "    this.root.append(nav_element);\n",
       "\n",
       "    // Define a callback function for later on.\n",
       "    function toolbar_event(event) {\n",
       "        return fig.toolbar_button_onclick(event['data']);\n",
       "    }\n",
       "    function toolbar_mouse_event(event) {\n",
       "        return fig.toolbar_button_onmouseover(event['data']);\n",
       "    }\n",
       "\n",
       "    for(var toolbar_ind in mpl.toolbar_items){\n",
       "        var name = mpl.toolbar_items[toolbar_ind][0];\n",
       "        var tooltip = mpl.toolbar_items[toolbar_ind][1];\n",
       "        var image = mpl.toolbar_items[toolbar_ind][2];\n",
       "        var method_name = mpl.toolbar_items[toolbar_ind][3];\n",
       "\n",
       "        if (!name) { continue; };\n",
       "\n",
       "        var button = $('<button class=\"btn btn-default\" href=\"#\" title=\"' + name + '\"><i class=\"fa ' + image + ' fa-lg\"></i></button>');\n",
       "        button.click(method_name, toolbar_event);\n",
       "        button.mouseover(tooltip, toolbar_mouse_event);\n",
       "        nav_element.append(button);\n",
       "    }\n",
       "\n",
       "    // Add the status bar.\n",
       "    var status_bar = $('<span class=\"mpl-message\" style=\"text-align:right; float: right;\"/>');\n",
       "    nav_element.append(status_bar);\n",
       "    this.message = status_bar[0];\n",
       "\n",
       "    // Add the close button to the window.\n",
       "    var buttongrp = $('<div class=\"btn-group inline pull-right\"></div>');\n",
       "    var button = $('<button class=\"btn btn-mini btn-danger\" href=\"#\" title=\"Close figure\"><i class=\"fa fa-times icon-remove icon-large\"></i></button>');\n",
       "    button.click(function (evt) { fig.handle_close(fig, {}); } );\n",
       "    button.mouseover('Close figure', toolbar_mouse_event);\n",
       "    buttongrp.append(button);\n",
       "    var titlebar = this.root.find($('.ui-dialog-titlebar'));\n",
       "    titlebar.prepend(buttongrp);\n",
       "}\n",
       "\n",
       "\n",
       "mpl.figure.prototype._canvas_extra_style = function(el){\n",
       "    // this is important to make the div 'focusable\n",
       "    el.attr('tabindex', 0)\n",
       "    // reach out to IPython and tell the keyboard manager to turn it's self\n",
       "    // off when our div gets focus\n",
       "\n",
       "    // location in version 3\n",
       "    if (IPython.notebook.keyboard_manager) {\n",
       "        IPython.notebook.keyboard_manager.register_events(el);\n",
       "    }\n",
       "    else {\n",
       "        // location in version 2\n",
       "        IPython.keyboard_manager.register_events(el);\n",
       "    }\n",
       "\n",
       "}\n",
       "\n",
       "mpl.figure.prototype._key_event_extra = function(event, name) {\n",
       "    var manager = IPython.notebook.keyboard_manager;\n",
       "    if (!manager)\n",
       "        manager = IPython.keyboard_manager;\n",
       "\n",
       "    // Check for shift+enter\n",
       "    if (event.shiftKey && event.which == 13) {\n",
       "        this.canvas_div.blur();\n",
       "        event.shiftKey = false;\n",
       "        // Send a \"J\" for go to next cell\n",
       "        event.which = 74;\n",
       "        event.keyCode = 74;\n",
       "        manager.command_mode();\n",
       "        manager.handle_keydown(event);\n",
       "    }\n",
       "}\n",
       "\n",
       "mpl.figure.prototype.handle_save = function(fig, msg) {\n",
       "    fig.ondownload(fig, null);\n",
       "}\n",
       "\n",
       "\n",
       "mpl.find_output_cell = function(html_output) {\n",
       "    // Return the cell and output element which can be found *uniquely* in the notebook.\n",
       "    // Note - this is a bit hacky, but it is done because the \"notebook_saving.Notebook\"\n",
       "    // IPython event is triggered only after the cells have been serialised, which for\n",
       "    // our purposes (turning an active figure into a static one), is too late.\n",
       "    var cells = IPython.notebook.get_cells();\n",
       "    var ncells = cells.length;\n",
       "    for (var i=0; i<ncells; i++) {\n",
       "        var cell = cells[i];\n",
       "        if (cell.cell_type === 'code'){\n",
       "            for (var j=0; j<cell.output_area.outputs.length; j++) {\n",
       "                var data = cell.output_area.outputs[j];\n",
       "                if (data.data) {\n",
       "                    // IPython >= 3 moved mimebundle to data attribute of output\n",
       "                    data = data.data;\n",
       "                }\n",
       "                if (data['text/html'] == html_output) {\n",
       "                    return [cell, data, j];\n",
       "                }\n",
       "            }\n",
       "        }\n",
       "    }\n",
       "}\n",
       "\n",
       "// Register the function which deals with the matplotlib target/channel.\n",
       "// The kernel may be null if the page has been refreshed.\n",
       "if (IPython.notebook.kernel != null) {\n",
       "    IPython.notebook.kernel.comm_manager.register_target('matplotlib', mpl.mpl_figure_comm);\n",
       "}\n"
      ],
      "text/plain": [
       "<IPython.core.display.Javascript object>"
      ]
     },
     "metadata": {},
     "output_type": "display_data"
    },
    {
     "data": {
      "text/html": [
       "<img src=\"data:image/png;base64,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\">"
      ],
      "text/plain": [
       "<IPython.core.display.HTML object>"
      ]
     },
     "metadata": {},
     "output_type": "display_data"
    }
   ],
   "source": [
    "from sklearn.metrics import precision_recall_curve, average_precision_score\n",
    "\n",
    "x_val = X_y[1][:100]\n",
    "y_val = X_y[-1][:100]\n",
    "\n",
    "prediction = network.predict(x_val)\n",
    "target = get_target(y_val)\n",
    "\n",
    "precision, recall, thr = precision_recall_curve(target.ravel(), prediction.ravel())\n",
    "average_precision = average_precision_score(target.ravel(), prediction.ravel())\n",
    "\n",
    "# Plot Precision-Recall curve\n",
    "plt.clf()\n",
    "plt.plot(recall, precision, label='Precision-Recall curve')\n",
    "plt.plot(np.arange(thr.shape[0]) / (thr.shape[0] + 1e-6), thr, label='Threshold')\n",
    "plt.xlabel('Recall')\n",
    "plt.ylabel('Precision')\n",
    "plt.ylim([0.0, 1.05])\n",
    "plt.xlim([0.0, 1.0])\n",
    "plt.title('Precision-Recall example: AUC={0:0.2f}'.format(average_precision))\n",
    "plt.legend(loc='best')\n",
    "plt.show()"
   ]
  },
  {
   "cell_type": "code",
   "execution_count": 37,
   "metadata": {
    "collapsed": false
   },
   "outputs": [
    {
     "data": {
      "text/plain": [
       "[<matplotlib.lines.Line2D at 0x7f053d949750>]"
      ]
     },
     "execution_count": 37,
     "metadata": {},
     "output_type": "execute_result"
    },
    {
     "data": {
      "image/png": "[encoded data removed]",
      "text/plain": [
       "<matplotlib.figure.Figure at 0x7f053d949650>"
      ]
     },
     "metadata": {},
     "output_type": "display_data"
    }
   ],
   "source": [
    "plt.plot(precision)\n",
    "plt.plot(recall)"
   ]
  },
  {
   "cell_type": "code",
   "execution_count": 42,
   "metadata": {
    "collapsed": false
   },
   "outputs": [
    {
     "data": {
      "text/plain": [
       "0.14071012586887094"
      ]
     },
     "execution_count": 42,
     "metadata": {},
     "output_type": "execute_result"
    }
   ],
   "source": [
    "precision[10000]"
   ]
  },
  {
   "cell_type": "code",
   "execution_count": 44,
   "metadata": {
    "collapsed": false
   },
   "outputs": [
    {
     "data": {
      "text/plain": [
       "0.056844052"
      ]
     },
     "execution_count": 44,
     "metadata": {},
     "output_type": "execute_result"
    }
   ],
   "source": [
    "thr[10000]"
   ]
  },
  {
   "cell_type": "code",
   "execution_count": 43,
   "metadata": {
    "collapsed": false
   },
   "outputs": [
    {
     "data": {
      "text/plain": [
       "0.99707135250266243"
      ]
     },
     "execution_count": 43,
     "metadata": {},
     "output_type": "execute_result"
    }
   ],
   "source": [
    "recall[10000]"
   ]
  },
  {
   "cell_type": "code",
   "execution_count": null,
   "metadata": {
    "collapsed": true
   },
   "outputs": [],
   "source": []
  },
  {
   "cell_type": "code",
   "execution_count": 60,
   "metadata": {
    "collapsed": false
   },
   "outputs": [],
   "source": [
    "complexity, max_complexity, miltipliers, constants = network.compute_complexity()\n",
    "result = complexity[0]\n",
    "max_result = max_complexity[0]\n",
    "\n",
    "for i in range(len(complexity) - 1):\n",
    "    result += T.round(complexity[i + 1]) * miltipliers[i] + constants[i]\n",
    "    \n",
    "estimate_complexity = theano.function([network.input_X, network.targets], result / complexity[0])"
   ]
  },
  {
   "cell_type": "code",
   "execution_count": 61,
   "metadata": {
    "collapsed": false
   },
   "outputs": [
    {
     "data": {
      "text/plain": [
       "1.8281575469970703"
      ]
     },
     "execution_count": 61,
     "metadata": {},
     "output_type": "execute_result"
    }
   ],
   "source": [
    "x_val = X_y[1][:10000]\n",
    "y_val = X_y[-1][:10000]\n",
    "\n",
    "estimate_complexity(x_val, y_val) / len(x_val)"
   ]
  },
  {
   "cell_type": "code",
   "execution_count": 45,
   "metadata": {
    "collapsed": false
   },
   "outputs": [],
   "source": [
    "complexity, max_complexity, miltipliers, constants = network.compute_complexity()\n",
    "result = complexity[0]\n",
    "max_result = max_complexity[0]\n",
    "\n",
    "for i in range(len(complexity) - 1):\n",
    "    result += complexity[i + 1] * miltipliers[i] + constants[i]\n",
    "    \n",
    "estimate_complexity = theano.function([network.input_X, network.targets], result / complexity[0])"
   ]
  },
  {
   "cell_type": "code",
   "execution_count": 47,
   "metadata": {
    "collapsed": false
   },
   "outputs": [
    {
     "data": {
      "text/plain": [
       "1.8281576404571533"
      ]
     },
     "execution_count": 47,
     "metadata": {},
     "output_type": "execute_result"
    }
   ],
   "source": [
    "x_val = X_y[1][:10000]\n",
    "y_val = X_y[-1][:10000]\n",
    "\n",
    "estimate_complexity(x_val, y_val) / len(x_val)"
   ]
  },
  {
   "cell_type": "code",
   "execution_count": 48,
   "metadata": {
    "collapsed": false
   },
   "outputs": [
    {
     "data": {
      "image/png": "[encoded data removed]",
      "text/plain": [
       "<matplotlib.figure.Figure at 0x7f053c9f7390>"
      ]
     },
     "metadata": {},
     "output_type": "display_data"
    }
   ],
   "source": [
    "plt.hist(X.ravel())\n",
    "plt.yscale('log')"
   ]
  },
  {
   "cell_type": "code",
   "execution_count": null,
   "metadata": {
    "collapsed": true
   },
   "outputs": [],
   "source": []
  },
  {
   "cell_type": "code",
   "execution_count": 54,
   "metadata": {
    "collapsed": false
   },
   "outputs": [],
   "source": [
    "sigmoid = np.vectorize(lambda x: 1.0 / (1.0 + np.exp(-x)))"
   ]
  },
  {
   "cell_type": "code",
   "execution_count": 56,
   "metadata": {
    "collapsed": false
   },
   "outputs": [
    {
     "data": {
      "image/png": "[encoded data removed]",
      "text/plain": [
       "<matplotlib.figure.Figure at 0x7f053c25d910>"
      ]
     },
     "metadata": {},
     "output_type": "display_data"
    }
   ],
   "source": [
    "from sklearn.metrics import precision_recall_curve, average_precision_score\n",
    "\n",
    "x_val = X_y[1][:100]\n",
    "y_val = X_y[-1][:100]\n",
    "\n",
    "prediction = get_target(sigmoid(x_val).astype(np.float32)).ravel()\n",
    "target = get_target(y_val).ravel()\n",
    "\n",
    "precision, recall, thr = precision_recall_curve(target.ravel(), prediction.ravel())\n",
    "average_precision = average_precision_score(target.ravel(), prediction.ravel())\n",
    "\n",
    "# Plot Precision-Recall curve\n",
    "plt.clf()\n",
    "plt.plot(recall, precision, label='Precision-Recall curve')\n",
    "plt.plot(np.arange(thr.shape[0]) / (thr.shape[0] + 1e-6), thr, label='Threshold')\n",
    "plt.xlabel('Recall')\n",
    "plt.ylabel('Precision')\n",
    "plt.ylim([0.0, 1.05])\n",
    "plt.xlim([0.0, 1.0])\n",
    "plt.title('Precision-Recall example: AUC={0:0.2f}'.format(average_precision))\n",
    "plt.legend(loc='best')\n",
    "plt.show()"
   ]
  },
  {
   "cell_type": "code",
   "execution_count": 57,
   "metadata": {
    "collapsed": false
   },
   "outputs": [
    {
     "data": {
      "text/plain": [
       "array([ 0.05026699,  1.        ])"
      ]
     },
     "execution_count": 57,
     "metadata": {},
     "output_type": "execute_result"
    }
   ],
   "source": [
    "precision"
   ]
  },
  {
   "cell_type": "code",
   "execution_count": 53,
   "metadata": {
    "collapsed": false
   },
   "outputs": [
    {
     "data": {
      "text/plain": [
       "array([ 1.,  0.])"
      ]
     },
     "execution_count": 53,
     "metadata": {},
     "output_type": "execute_result"
    }
   ],
   "source": [
    "recall"
   ]
  },
  {
   "cell_type": "code",
   "execution_count": 72,
   "metadata": {
    "collapsed": false
   },
   "outputs": [
    {
     "data": {
      "text/plain": [
       "array(0.9820137900379085)"
      ]
     },
     "execution_count": 72,
     "metadata": {},
     "output_type": "execute_result"
    }
   ],
   "source": [
    "sigmoid(4)"
   ]
  },
  {
   "cell_type": "code",
   "execution_count": 73,
   "metadata": {
    "collapsed": false
   },
   "outputs": [
    {
     "data": {
      "text/plain": [
       "array([ 0.99330715])"
      ]
     },
     "execution_count": 73,
     "metadata": {},
     "output_type": "execute_result"
    }
   ],
   "source": [
    "thr"
   ]
  },
  {
   "cell_type": "code",
   "execution_count": null,
   "metadata": {
    "collapsed": true
   },
   "outputs": [],
   "source": []
  }
 ],
 "metadata": {
  "kernelspec": {
   "display_name": "Python 2",
   "language": "python",
   "name": "python2"
  },
  "language_info": {
   "codemirror_mode": {
    "name": "ipython",
    "version": 2
   },
   "file_extension": ".py",
   "mimetype": "text/x-python",
   "name": "python",
   "nbconvert_exporter": "python",
   "pygments_lexer": "ipython2",
   "version": "2.7.11"
  }
 },
 "nbformat": 4,
 "nbformat_minor": 0
}

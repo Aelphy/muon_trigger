{
 "cells": [
  {
   "cell_type": "code",
   "execution_count": 1,
   "metadata": {
    "collapsed": false
   },
   "outputs": [],
   "source": [
    "#ipynb config\n",
    "import sys\n",
    "sys.path.append('..')\n",
    "%load_ext autoreload\n",
    "%autoreload 2"
   ]
  },
  {
   "cell_type": "code",
   "execution_count": 2,
   "metadata": {
    "collapsed": false
   },
   "outputs": [],
   "source": [
    "from sklearn.cross_validation import train_test_split\n",
    "from models.cascade_base import CascadeBase\n",
    "from utils.visualizer import Visualizer\n",
    "from IPython.display import SVG, display\n",
    "\n",
    "import numpy as np\n",
    "import matplotlib.pyplot as plt\n",
    "\n",
    "import time\n",
    "import theano\n",
    "import lasagne\n",
    "\n",
    "plt.style.use('ggplot')\n",
    "\n",
    "%matplotlib inline"
   ]
  },
  {
   "cell_type": "code",
   "execution_count": 3,
   "metadata": {
    "collapsed": true
   },
   "outputs": [],
   "source": [
    "network = CascadeBase(img_shape=(512, 512),\n",
    "                      learning_rate=1e-3,\n",
    "                      c=1e-1,\n",
    "                      c_complexity=5e-1,\n",
    "                      c_sub_objs=[5e-1, 1, 1],\n",
    "                      c_sub_obj_cs=[1e-2, 1e-1, 1e-1],\n",
    "                      mul=True,\n",
    "                      pool_sizes=[2, 2, 2, 2],\n",
    "                      num_filters=[1, 1, 3, 6],\n",
    "                      filter_sizes=[1, 3, 3, 3],\n",
    "                      l2_c=1e-4)"
   ]
  },
  {
   "cell_type": "code",
   "execution_count": 4,
   "metadata": {
    "collapsed": false
   },
   "outputs": [],
   "source": [
    "network.load('../weights/', '3cascades_stable_recall')"
   ]
  },
  {
   "cell_type": "code",
   "execution_count": 5,
   "metadata": {
    "collapsed": false
   },
   "outputs": [],
   "source": [
    "max_pool = theano.function([network.targets], lasagne.layers.get_output(network.target_pool_layers[-1]))"
   ]
  },
  {
   "cell_type": "code",
   "execution_count": 75,
   "metadata": {
    "collapsed": false
   },
   "outputs": [],
   "source": [
    "step = 512 / 32\n",
    "\n",
    "with open('../data/info.dat', 'wb') as f:\n",
    "    for k in range(5):\n",
    "        images = np.load('../data/imgs_000{}.npy'.format(k))\n",
    "        masks = np.load('../data/masks_000{}.npy'.format(k))\n",
    "        max_pooled = max_pool(masks.reshape((-1, 1, 512, 512))).reshape(-1, 32, 32)\n",
    "\n",
    "        for i, mask in enumerate(max_pooled):\n",
    "            f.write('pos{}_{}.png'.format(k, i))\n",
    "            plt.imsave('../data/pos{}_{}.png'.format(k, i), images[i])\n",
    "            num_pos = 0\n",
    "            bounding_rectangles = []\n",
    "\n",
    "            x, y = mask.nonzero()\n",
    "\n",
    "            for j in range(len(x)):\n",
    "                bounding_rectangles.append([x[j] * step, y[j] * step, step, step])\n",
    "\n",
    "            f.write('\\t{}'.format(len(bounding_rectangles)))\n",
    "            for br in bounding_rectangles:\n",
    "                f.write('\\t')\n",
    "                f.write(' '.join([str(e) for e in br]))\n",
    "            f.write('\\n')"
   ]
  },
  {
   "cell_type": "code",
   "execution_count": 6,
   "metadata": {
    "collapsed": true
   },
   "outputs": [],
   "source": [
    "bg_images = np.load('../data/bg_imgs_0000.npy')"
   ]
  },
  {
   "cell_type": "code",
   "execution_count": 7,
   "metadata": {
    "collapsed": false
   },
   "outputs": [],
   "source": [
    "with open('../data/bg.txt', 'wb') as f:\n",
    "    for i, bg in enumerate(bg_images):\n",
    "        f.write('./bg0_{}.png\\n'.format(i))\n",
    "        plt.imsave('../data/bg0_{}.png'.format(i), bg)"
   ]
  },
  {
   "cell_type": "code",
   "execution_count": null,
   "metadata": {
    "collapsed": true
   },
   "outputs": [],
   "source": []
  }
 ],
 "metadata": {
  "kernelspec": {
   "display_name": "Python 2",
   "language": "python",
   "name": "python2"
  },
  "language_info": {
   "codemirror_mode": {
    "name": "ipython",
    "version": 2
   },
   "file_extension": ".py",
   "mimetype": "text/x-python",
   "name": "python",
   "nbconvert_exporter": "python",
   "pygments_lexer": "ipython2",
   "version": "2.7.6"
  }
 },
 "nbformat": 4,
 "nbformat_minor": 0
}
